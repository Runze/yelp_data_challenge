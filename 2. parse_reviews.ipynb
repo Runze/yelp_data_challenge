{
 "metadata": {
  "name": "",
  "signature": "sha256:425be0c17792560e24b1e2be22c06a87d56f39fefc9b9acc1f56ecbed579daf1"
 },
 "nbformat": 3,
 "nbformat_minor": 0,
 "worksheets": [
  {
   "cells": [
    {
     "cell_type": "heading",
     "level": 1,
     "metadata": {},
     "source": [
      "2. Analyzing reviews"
     ]
    },
    {
     "cell_type": "markdown",
     "metadata": {},
     "source": [
      "In this module, I'm going to take a closer look at the text reviews, parse them into words, and, based on how their appearances correlate with the star ratings, construct a dictionary of words with estimated sentiment scores, which will then be used to infer the sentiment of the reviews themselves."
     ]
    },
    {
     "cell_type": "code",
     "collapsed": false,
     "input": [
      "import pandas as pd\n",
      "from pandas import DataFrame\n",
      "import numpy as np\n",
      "import re\n",
      "from sklearn.feature_extraction.text import CountVectorizer\n",
      "import cPickle as pickle\n",
      "from __future__ import division\n",
      "from scipy.sparse import csr_matrix\n",
      "import matplotlib.pyplot as plt\n",
      "import seaborn as sns\n",
      "%matplotlib inline\n",
      "%cd /Users/Runze/Google Drive/Yelp/yelp_dataset_challenge_academic_dataset"
     ],
     "language": "python",
     "metadata": {},
     "outputs": [
      {
       "output_type": "stream",
       "stream": "stdout",
       "text": [
        "/Users/Runze/Google Drive/Yelp/yelp_dataset_challenge_academic_dataset\n"
       ]
      }
     ],
     "prompt_number": 1
    },
    {
     "cell_type": "heading",
     "level": 2,
     "metadata": {},
     "source": [
      "2.1 Splitting data into training and testing sets"
     ]
    },
    {
     "cell_type": "markdown",
     "metadata": {},
     "source": [
      "First, before performing any training, let's first carve out 30% of the data and leave them out of the whole training process and only use them for testing later."
     ]
    },
    {
     "cell_type": "code",
     "collapsed": false,
     "input": [
      "reviews = pd.read_pickle('reviews.pkl')"
     ],
     "language": "python",
     "metadata": {},
     "outputs": [],
     "prompt_number": 2
    },
    {
     "cell_type": "code",
     "collapsed": false,
     "input": [
      "# split into training and test set with equal proportions for each category and rating (i.e., stratified sampling)\n",
      "reviews_train = DataFrame(columns = reviews.columns)\n",
      "reviews_test = DataFrame(columns = reviews.columns)\n",
      "\n",
      "for category in set(reviews['category']):\n",
      "    # loop over all the categories\n",
      "    reviews_temp = reviews[reviews['category'] == category]\n",
      "    \n",
      "    for stars in set(reviews_temp['stars']):\n",
      "        # loop over all the ratings\n",
      "        reviews_temp_2 = reviews_temp[reviews_temp['stars'] == stars]\n",
      "        \n",
      "        # create randomized training and test indices\n",
      "        seq = np.arange(len(reviews_temp_2))\n",
      "        np.random.seed(2014)\n",
      "        np.random.shuffle(seq)\n",
      "        train_ind, test_ind = seq[:int(.7 * max(seq))], seq[int(.7 * max(seq)):]\n",
      "        \n",
      "        # split the data\n",
      "        reviews_train = pd.concat([reviews_train, reviews_temp_2.iloc[train_ind]])\n",
      "        reviews_test = pd.concat([reviews_test, reviews_temp_2.iloc[test_ind]])\n",
      "\n",
      "print reviews_train.shape, reviews_test.shape"
     ],
     "language": "python",
     "metadata": {},
     "outputs": [
      {
       "output_type": "stream",
       "stream": "stdout",
       "text": [
        "(786661, 10) (337296, 10)\n"
       ]
      }
     ],
     "prompt_number": 3
    },
    {
     "cell_type": "code",
     "collapsed": false,
     "input": [
      "pd.to_pickle(reviews_train, 'reviews_train.pkl')\n",
      "pd.to_pickle(reviews_test, 'reviews_test.pkl')"
     ],
     "language": "python",
     "metadata": {},
     "outputs": [],
     "prompt_number": 4
    },
    {
     "cell_type": "heading",
     "level": 2,
     "metadata": {},
     "source": [
      "2.2 Calculating sentiment scores for the words in the training set"
     ]
    },
    {
     "cell_type": "code",
     "collapsed": false,
     "input": [
      "# clean reviews by keeping only alphabetic characters and exclamation marks\n",
      "text_cleaned = [re.sub(r'!', ' exclamation', text) for text in reviews_train['text']]\n",
      "text_cleaned = [text.lower() for text in text_cleaned]\n",
      "text_cleaned = [re.sub(r'[^a-z]', ' ', text) for text in text_cleaned]\n",
      "reviews_train['text_cleaned'] = text_cleaned"
     ],
     "language": "python",
     "metadata": {},
     "outputs": [],
     "prompt_number": 5
    },
    {
     "cell_type": "code",
     "collapsed": false,
     "input": [
      "# create document-term matrix using the cleaned reviews\n",
      "vectorizer = CountVectorizer(min_df = 100)\n",
      "dtm = vectorizer.fit_transform(reviews_train['text_cleaned'])\n",
      "dtm.shape"
     ],
     "language": "python",
     "metadata": {
      "slideshow": {
       "slide_type": "slide"
      }
     },
     "outputs": [
      {
       "output_type": "stream",
       "stream": "stderr",
       "text": [
        "/Users/Runze/Library/Enthought/Canopy_64bit/User/lib/python2.7/site-packages/numpy/core/fromnumeric.py:2499: VisibleDeprecationWarning: `rank` is deprecated; use the `ndim` attribute or function instead. To find the rank of a matrix see `numpy.linalg.matrix_rank`.\n",
        "  VisibleDeprecationWarning)\n"
       ]
      },
      {
       "metadata": {},
       "output_type": "pyout",
       "prompt_number": 6,
       "text": [
        "(786661, 15772)"
       ]
      }
     ],
     "prompt_number": 6
    },
    {
     "cell_type": "code",
     "collapsed": false,
     "input": [
      "with open('dtm_train.pkl', 'wb') as output:\n",
      "    pickle.dump(dtm, output)"
     ],
     "language": "python",
     "metadata": {},
     "outputs": [],
     "prompt_number": 7
    },
    {
     "cell_type": "markdown",
     "metadata": {},
     "source": [
      "Here, when creating the document-term matrix, I decided not to remove any stopwords because I found some of them, like \"not\" or \"nothing,\" carry informative sentiment content that can help infer the overall sentiment of a review. Also, as shown below, the method I used to calculate the sentiment scores is robust to \"real\" stopwords that show up everywhere but carry little or no meaning."
     ]
    },
    {
     "cell_type": "markdown",
     "metadata": {},
     "source": [
      "To calculate sentiment scores, first calculate the percentage of time a word \"spends\" on each document, defined as its usage in each individual document divided by its total usage across all documents (i.e., the column sum), thus creating a modified document-term matrix whose elements are all \"percentage frequencies.\""
     ]
    },
    {
     "cell_type": "code",
     "collapsed": false,
     "input": [
      "# calculate the total frequency across all documents for each word (i.e., the column sums)\n",
      "freq = csr_matrix.sum(dtm, 0)\n",
      "\n",
      "# devide the individual frequency by the total frequency to calculate the percentage of time a word \"spends\" on each document\n",
      "freq_inverse = np.repeat(1, freq.shape[1]) / freq\n",
      "freq_inverse = csr_matrix(freq_inverse)\n",
      "dtm_prc = dtm.multiply(freq_inverse)"
     ],
     "language": "python",
     "metadata": {},
     "outputs": [],
     "prompt_number": 8
    },
    {
     "cell_type": "markdown",
     "metadata": {},
     "source": [
      "Then, for each word, multiply its percentage frequency in each document by the number of stars the reviewer ultimately assigned to the business (normalized to [-1, 1]), and sum these weighted frequencies across all documents to arrive at the word's sentiment score.\n",
      "\n",
      "As an example, say the word \"good\" shows up 5 times in a 5-star review, 4 times in a 4-star review, ..., and 1 time in a 1-star review, its sentiment score would be (5 \\* 1 + 4 \\* 0.5 + 3 \\* 0 + 2 \\* (-0.5) + 1 \\* (-1)) / (5 + 4 + 3 + 2 + 1) = 0.33, indicating moderately postive sentiment.\n",
      "\n",
      "As a couple extreme examples, if a word only appears in 5-star reviews, its sentiment score would be 1, and if it only appears in 1-star reviews, its score would be -1.\n",
      "\n",
      "What about highly frequent words that don't mean much (e.g., stopwords)? As shown in the first example, showing up everywhere will dilute a word's overall effect. In an extreme example, if a word's usage is evenly distributed across all documents, its final score would be 0, indicating abosulately neutral effect.\n",
      "\n",
      "On a related note, using a word's percentage frequencies instead of its raw frequencies has the benefit of discovering less frequent words and rating them appropriately. For example, as shown in the first module, the amount of restaurant reviews greatly dwarfed that of the others'. Hence, if we just consider words' raw usage, we may inadvertently rate such industry-specific terms as \"delicious\" and \"yummy\" to the top while ignoring words that are used more in other industries but convey just as much meanings (e.g., \"responsive,\" \"fair\"). Using the percentage frequencies, on the other hand, will give every word an equal chance.\n",
      "\n",
      "Here is how it's calculated:"
     ]
    },
    {
     "cell_type": "code",
     "collapsed": false,
     "input": [
      "# calculate the sentiment score for each word by weighting its percentage frequency by the number of stars\n",
      "# first normalize the star ratings to [-1, 1]:\n",
      "def normalization(series):\n",
      "    return (2 * series - (series.max() + series.min())) / (series.max() - series.min())\n",
      "stars_norm = normalization(reviews_train['stars'])\n",
      "\n",
      "# calculate word scores using the normlized star ratings\n",
      "word_score = dtm_prc.T * stars_norm\n",
      "sns.distplot(word_score, kde = False)"
     ],
     "language": "python",
     "metadata": {},
     "outputs": [
      {
       "metadata": {},
       "output_type": "pyout",
       "prompt_number": 11,
       "text": [
        "<matplotlib.axes._subplots.AxesSubplot at 0x106f61510>"
       ]
      },
      {
       "metadata": {},
       "output_type": "display_data",
       "png": "[encoded data removed]",
       "text": [
        "<matplotlib.figure.Figure at 0x126b54dd0>"
       ]
      }
     ],
     "prompt_number": 11
    },
    {
     "cell_type": "markdown",
     "metadata": {},
     "source": [
      "As shown in the left-skewed histogram above, using such method seems to overweight a word's sentiment. Indeed, even true stopwords like \"the\" recieves a moderately positive score. This is partly due to the large amount of positive reviews in the dataset. A potential remedy may be to \"penalize\" words appeared in the negative reviews more."
     ]
    },
    {
     "cell_type": "code",
     "collapsed": false,
     "input": [
      "# combine with the terms\n",
      "word2score = dict(zip(vectorizer.get_feature_names(), word_score))"
     ],
     "language": "python",
     "metadata": {},
     "outputs": [],
     "prompt_number": 12
    },
    {
     "cell_type": "code",
     "collapsed": false,
     "input": [
      "# check out the most favorable words\n",
      "sorted(word2score.items(), key = lambda x: -x[1])[:30]"
     ],
     "language": "python",
     "metadata": {},
     "outputs": [
      {
       "metadata": {},
       "output_type": "pyout",
       "prompt_number": 13,
       "text": [
        "[(u'acupuncture', 0.89080459770115061),\n",
        " (u'crossfit', 0.8765008576329324),\n",
        " (u'chiropractic', 0.86490683229813381),\n",
        " (u'barre', 0.8629518072289164),\n",
        " (u'perfectionist', 0.85750000000000037),\n",
        " (u'chiropractors', 0.83986928104574965),\n",
        " (u'unmatched', 0.83407079646017812),\n",
        " (u'vaping', 0.83333333333333226),\n",
        " (u'listens', 0.82695810564663386),\n",
        " (u'biaggio', 0.81276595744680902),\n",
        " (u'vape', 0.80783582089552208),\n",
        " (u'meticulous', 0.80249999999999388),\n",
        " (u'troy', 0.79004329004328944),\n",
        " (u'compassionate', 0.78973105134473975),\n",
        " (u'tran', 0.78915662650602425),\n",
        " (u'passionate', 0.78742514970061239),\n",
        " (u'exceeded', 0.77926920208797623),\n",
        " (u'dedication', 0.77591973244147117),\n",
        " (u'unparalleled', 0.77227722772277285),\n",
        " (u'coaches', 0.77166666666666639),\n",
        " (u'workouts', 0.77145359019264237),\n",
        " (u'mahalo', 0.7710280373831776),\n",
        " (u'creamiest', 0.77064220183486087),\n",
        " (u'mazing', 0.76943005181347368),\n",
        " (u'canine', 0.76694915254237206),\n",
        " (u'gem', 0.76651110168293601),\n",
        " (u'impeccable', 0.76425788168617992),\n",
        " (u'langoustine', 0.76304347826086816),\n",
        " (u'soho', 0.76282051282051166),\n",
        " (u'foodgasm', 0.76229508196721374)]"
       ]
      }
     ],
     "prompt_number": 13
    },
    {
     "cell_type": "markdown",
     "metadata": {},
     "source": [
      "Interestingly, the top favorable words found by this method have nothing to do with the restaurant industry, which suggests that less common business such as acupuncture and crossfit generally received positive reviews."
     ]
    },
    {
     "cell_type": "code",
     "collapsed": false,
     "input": [
      "# check out the most negative words\n",
      "sorted(word2score.items(), key = lambda x: x[1])[:30]"
     ],
     "language": "python",
     "metadata": {},
     "outputs": [
      {
       "metadata": {},
       "output_type": "pyout",
       "prompt_number": 14,
       "text": [
        "[(u'disrespected', -0.82916666666666605),\n",
        " (u'unethical', -0.81666666666666532),\n",
        " (u'crooks', -0.80606060606060703),\n",
        " (u'fraud', -0.78597122302158062),\n",
        " (u'livid', -0.76502732240437232),\n",
        " (u'liars', -0.7603092783505141),\n",
        " (u'dishonest', -0.75438596491228227),\n",
        " (u'incompetence', -0.75117370892018709),\n",
        " (u'rudest', -0.7418032786885248),\n",
        " (u'disgrace', -0.74157303370786565),\n",
        " (u'disrespectful', -0.73009950248756428),\n",
        " (u'unprofessional', -0.72609603340291728),\n",
        " (u'audacity', -0.72033898305084598),\n",
        " (u'refund', -0.70803744351192921),\n",
        " (u'incompetent', -0.69375812743822762),\n",
        " (u'rudely', -0.68801089918256531),\n",
        " (u'scam', -0.6761363636363642),\n",
        " (u'liar', -0.6744868035190611),\n",
        " (u'dispute', -0.66400000000000048),\n",
        " (u'unhelpful', -0.6625939849624044),\n",
        " (u'appalling', -0.655241935483872),\n",
        " (u'uncaring', -0.65363128491620215),\n",
        " (u'deplorable', -0.65357142857142714),\n",
        " (u'appalled', -0.65151515151515049),\n",
        " (u'feces', -0.6446280991735529),\n",
        " (u'accused', -0.63758389261745074),\n",
        " (u'worst', -0.63730464194069802),\n",
        " (u'argued', -0.63556338028169357),\n",
        " (u'poisoning', -0.6337121212121134),\n",
        " (u'disgusted', -0.62698412698412653)]"
       ]
      }
     ],
     "prompt_number": 14
    },
    {
     "cell_type": "code",
     "collapsed": false,
     "input": [
      "with open('word2score.pkl', 'wb') as output:\n",
      "    pickle.dump(word2score, output)"
     ],
     "language": "python",
     "metadata": {},
     "outputs": [],
     "prompt_number": 15
    },
    {
     "cell_type": "heading",
     "level": 2,
     "metadata": {},
     "source": [
      "2.3 Calculating sentiment scores for the reviews in the training set"
     ]
    },
    {
     "cell_type": "markdown",
     "metadata": {},
     "source": [
      "To aggregate word-specific sentiment scores into an overall score for the review, I first multiply the document's word frequencies by their respective sentiment scores, hence creating a weighted word count. I then divide it by the raw word count to restrict it between -1 and 1. In the extreme cases, if all the words in a review receives a sentiment score of 1, the resulting score for the review itself will be 1 as well, indicating extremely positive. On the other hand, if only negative words are used, the aggregated score will be close to -1 too."
     ]
    },
    {
     "cell_type": "code",
     "collapsed": false,
     "input": [
      "# calculate sentiment scores for each reviews\n",
      "review_score = dtm * np.atleast_2d(word_score).T\n",
      "\n",
      "# divide the scores by the total number of words in each document\n",
      "dtm_row_sum = csr_matrix.sum(dtm, 1)\n",
      "review_score = review_score / dtm_row_sum"
     ],
     "language": "python",
     "metadata": {},
     "outputs": [],
     "prompt_number": 16
    },
    {
     "cell_type": "code",
     "collapsed": false,
     "input": [
      "# for reviews that don't include any words in the dtm, replace the 0 scores with NAs\n",
      "review_score[dtm_row_sum == 0] = np.nan\n",
      "print 'the number of reviews with NA scores:', sum(pd.isnull(review_score))[0, 0]"
     ],
     "language": "python",
     "metadata": {},
     "outputs": [
      {
       "output_type": "stream",
       "stream": "stdout",
       "text": [
        "the number of reviews with NA scores: "
       ]
      },
      {
       "output_type": "stream",
       "stream": "stdout",
       "text": [
        "112\n"
       ]
      }
     ],
     "prompt_number": 17
    },
    {
     "cell_type": "code",
     "collapsed": false,
     "input": [
      "# combine scores with the reviews\n",
      "reviews_train['score'] = review_score\n",
      "\n",
      "# visualize distribution of the scores\n",
      "fig, axs = plt.subplots(1, 2)\n",
      "reviews_train['score'].hist(bins = 60, ax = axs[0], figsize = (16, 4))\n",
      "sns.boxplot(reviews_train['score'], reviews_train['stars'])"
     ],
     "language": "python",
     "metadata": {},
     "outputs": [
      {
       "metadata": {},
       "output_type": "pyout",
       "prompt_number": 18,
       "text": [
        "<matplotlib.axes._subplots.AxesSubplot at 0x1eb254b10>"
       ]
      },
      {
       "metadata": {},
       "output_type": "display_data",
       "png": "[encoded data removed]",
       "text": [
        "<matplotlib.figure.Figure at 0x1e34d8a10>"
       ]
      }
     ],
     "prompt_number": 18
    },
    {
     "cell_type": "markdown",
     "metadata": {},
     "source": [
      "As the histogram shows, the distribution of the review scores is rather narrow and is closely centered around 0.3, suggesting mildly positive sentiments. As shown in the boxplot, although the medians in each rating bucket do not seem to differ that much, the interquartile ranges are actually quite small, indicating that, barring upper and lower quantiles, the obtained scores may indeed potentially help discriminate reviews. However, ideally, we would want them to be more widely distributed.\n",
      "\n",
      "Next, let's take a look at the reviews that received the most extreme scores per each star rating to detect apparent misclassifications (e.g., one-star reviews receiving extremely high sentiment scores):"
     ]
    },
    {
     "cell_type": "code",
     "collapsed": false,
     "input": [
      "print 'the most favorite reviews by star:'\n",
      "print reviews_train.groupby('stars').apply(lambda x: x.sort('score', ascending = False)['text'][:5])\n",
      "print\n",
      "print 'the least favorite reviews by star:'\n",
      "print reviews_train.groupby('stars').apply(lambda x: x.sort('score')['text'][:5])"
     ],
     "language": "python",
     "metadata": {},
     "outputs": [
      {
       "output_type": "stream",
       "stream": "stdout",
       "text": [
        "the most favorite reviews by star:\n",
        "stars         \n",
        "1      993933                        Awesome\n",
        "       878831                          Yummy\n",
        "       1064763                         Great\n",
        "       559821            Satan's playground.\n",
        "       815578                         Wow...\n",
        "2      362265                 Haha Pheast!!!\n",
        "       512446                    Great music\n",
        "       436377                    Nice views.\n",
        "       320723                    Nice views.\n",
        "       822633               Red chandeliers!\n",
        "3      855124                            Nom\n",
        "       677311                            Yum\n",
        "       610471                beautiful salon\n",
        "       451449     Love love love the custard\n",
        "       360754              Yummy hummus.....\n",
        "4      712215                         Awsome\n",
        "       444073                         Awsome\n",
        "       191014                       Amazing.\n",
        "       380661                      Yummmm...\n",
        "       60862                  Deliciousness-\n",
        "5      1024145             Y.U.M.\\nAddicted.\n",
        "       984756                     perfection\n",
        "       251531                         Awsome\n",
        "       608077                       amazing.\n",
        "       26485                         Amazing\n",
        "Name: text, dtype: object"
       ]
      },
      {
       "output_type": "stream",
       "stream": "stdout",
       "text": [
        "\n",
        "\n",
        "the least favorite reviews by star:\n",
        "stars         \n",
        "1      394182                                  Rude. Ruder. Rudest.\n",
        "       950555                                            Disgusting\n",
        "       256461                                              Horrible\n",
        "       83423                                              Horrible.\n",
        "       775110                                             Horrible.\n",
        "2      346834                                             Pathetic.\n",
        "       1041915                                           Unreliable\n",
        "       670686                                                 Yuck.\n",
        "       721919                                           Mediocre...\n",
        "       372160                                                 Bland\n",
        "3      406709                                                   RIP\n",
        "       53102                                               mediocre\n",
        "       595410                                                   Ugh\n",
        "       121530                                Severely understaffed.\n",
        "       620396                                                  Meh.\n",
        "4      1033402                                                 A-ok\n",
        "       767879                                                    Ok\n",
        "       48159                                                    Eh.\n",
        "       221976     Just got a loyalty email w/ a broken link, rep...\n",
        "       590666                               No additional comments.\n",
        "5      989568                                               Deleted\n",
        "       26624                                          ;( RIP Chuy's\n",
        "       54538                                                    Bye\n",
        "       655175                                   Sorry wrong restsur\n",
        "       942428                                                    Ok\n",
        "Name: text, dtype: object"
       ]
      },
      {
       "output_type": "stream",
       "stream": "stdout",
       "text": [
        "\n"
       ]
      }
     ],
     "prompt_number": 19
    },
    {
     "cell_type": "markdown",
     "metadata": {},
     "source": [
      "There are indeed some interesting anomalies. For example, looking at the one-star reviews with the highest sentiment scores, I can understand the model missed idioms and sarcasms like \"Satan's playground\" and \"Wow...,\" but I can't quite figure out how words like \"Awesome,\" \"Yummy,\" and \"Great\" led to a one-star review (did someone's hand slip?). As another head-scratching example, the word \"Awesome\" (or \"Awsome\" barring the mispelling) appears in one-star reviews as well as those of five stars. Perhaps these outliers suggest the uncertainty and even randomness in the rating assignment or some other idiosyncratic factors the model failes to consider here. For example, some reviewers might be tougher than others and all his/her ratings are lower than average. To account for such instances, we'll need to utilize the reviewer information as well. Also this problem highlights the limitation of using the review text alone as some, like \"Deleted\" and \"Bye\" above, do not convey sufficient sentiment information.\n",
      "\n",
      "Despite these drawbacks, let's take a look at the most favorable and the most negative reviews found by the model:"
     ]
    },
    {
     "cell_type": "code",
     "collapsed": false,
     "input": [
      "# check out the most favorable reviews\n",
      "reviews_train_excl_na = reviews_train.dropna(subset = ['score']).sort(columns = 'score', ascending = False)\n",
      "for i in xrange(10):\n",
      "    print 'business id:', reviews_train_excl_na.iloc[i]['business_id']\n",
      "    print 'stars: %d\\nscores: %f' % (reviews_train_excl_na.iloc[i]['stars'], reviews_train_excl_na.iloc[i]['score'])\n",
      "    print 'reviews:', reviews_train_excl_na.iloc[i]['text'], '\\n'\n",
      "    print '***************************************************************************************************\\n'"
     ],
     "language": "python",
     "metadata": {},
     "outputs": [
      {
       "output_type": "stream",
       "stream": "stdout",
       "text": [
        "business id: l0QCZhMOPUId1Xfp23yLgA\n",
        "stars: 5\n",
        "scores: 0.743615\n",
        "reviews: Y.U.M.\n",
        "Addicted. \n",
        "\n",
        "***************************************************************************************************\n",
        "\n",
        "business id: mDdqifuTrfXAOfxiLMGu5Q\n",
        "stars: 5\n",
        "scores: 0.743016\n",
        "reviews: perfection \n",
        "\n",
        "***************************************************************************************************\n",
        "\n",
        "business id: E4AkhjuG-DY2DTcBrkxkGg\n",
        "stars: 5\n",
        "scores: 0.722698\n",
        "reviews: Awsome \n",
        "\n",
        "***************************************************************************************************\n",
        "\n",
        "business id: tomw3dn386aTe6RGOxn5BQ\n",
        "stars: 4\n",
        "scores: 0.722698\n",
        "reviews: Awsome \n",
        "\n",
        "***************************************************************************************************\n",
        "\n",
        "business id: kSgqFNVw-3QS-hPvoVLGxA\n",
        "stars: 4\n",
        "scores: 0.722698\n",
        "reviews: Awsome \n",
        "\n",
        "***************************************************************************************************\n",
        "\n",
        "business id: tFU2Js_nbIZOrnKfYJYBBg\n",
        "stars: 5\n",
        "scores: 0.719865\n",
        "reviews: Amazing \n",
        "\n",
        "***************************************************************************************************\n",
        "\n",
        "business id: ppeTb_JfnAbO200zcTgNMw\n",
        "stars: 5\n",
        "scores: 0.719865\n",
        "reviews: Amazing. \n",
        "\n",
        "***************************************************************************************************\n",
        "\n",
        "business id: OHsuvX4rmhnPvvRBb-QK7A\n",
        "stars: 5\n",
        "scores: 0.719865\n",
        "reviews: Amazing \n",
        "\n",
        "***************************************************************************************************\n",
        "\n",
        "business id: QbqJEXdngh_9fwqVTI0CJQ\n",
        "stars: 5\n",
        "scores: 0.719865\n",
        "reviews: Amazing \n",
        "\n",
        "***************************************************************************************************\n",
        "\n",
        "business id: bfDQai9X59uWK-XgP0t6rA\n",
        "stars: 5\n",
        "scores: 0.719865\n",
        "reviews: amazing \n",
        "\n",
        "***************************************************************************************************\n",
        "\n"
       ]
      }
     ],
     "prompt_number": 20
    },
    {
     "cell_type": "code",
     "collapsed": false,
     "input": [
      "# and the least favorable ones\n",
      "base_ind = len(reviews_train_excl_na) - 1\n",
      "for i in xrange(10):\n",
      "    print 'business id:', reviews_train_excl_na.iloc[base_ind - i]['business_id']\n",
      "    print 'stars: %d\\nscores: %f' % (reviews_train_excl_na.iloc[base_ind - i]['stars'], \n",
      "                                               reviews_train_excl_na.iloc[base_ind - i]['score'])\n",
      "    print 'reviews:', reviews_train_excl_na.iloc[base_ind - i]['text'], '\\n'\n",
      "    print '***************************************************************************************************\\n'"
     ],
     "language": "python",
     "metadata": {},
     "outputs": [
      {
       "output_type": "stream",
       "stream": "stdout",
       "text": [
        "business id: mzbQCUmd135tsNW6hY3G6A\n",
        "stars: 1\n",
        "scores: -0.644833\n",
        "reviews: Rude. Ruder. Rudest. \n",
        "\n",
        "***************************************************************************************************\n",
        "\n",
        "business id: EolW2H_wkpYwWbBURN_4gQ\n",
        "stars: 1\n",
        "scores: -0.598009\n",
        "reviews: Disgusting \n",
        "\n",
        "***************************************************************************************************\n",
        "\n",
        "business id: 30D7YdANEhqrR5u5UCeg5g\n",
        "stars: 1\n",
        "scores: -0.570553\n",
        "reviews: Horrible \n",
        "\n",
        "***************************************************************************************************\n",
        "\n",
        "business id: h2qjuP65Qgyoo0t1bnp4jA\n",
        "stars: 1\n",
        "scores: -0.570553\n",
        "reviews: Horrible. \n",
        "\n",
        "***************************************************************************************************\n",
        "\n",
        "business id: T4eOhjoc0xas9WOG_TmbAg\n",
        "stars: 1\n",
        "scores: -0.570553\n",
        "reviews: Horrible. \n",
        "\n",
        "***************************************************************************************************\n",
        "\n",
        "business id: 2dioqPw6txEgB397frYg-A\n",
        "stars: 2\n",
        "scores: -0.506190\n",
        "reviews: Pathetic. \n",
        "\n",
        "***************************************************************************************************\n",
        "\n",
        "business id: yruIfyQTNif460EfZQiBIw\n",
        "stars: 2\n",
        "scores: -0.500000\n",
        "reviews: Unreliable \n",
        "\n",
        "***************************************************************************************************\n",
        "\n",
        "business id: qeP2nIq3TCmhWFaFvaPtWA\n",
        "stars: 1\n",
        "scores: -0.499660\n",
        "reviews: Awful \n",
        "\n",
        "***************************************************************************************************\n",
        "\n",
        "business id: Mzvb9KyqVhrDA7wGhkTAKg\n",
        "stars: 1\n",
        "scores: -0.499660\n",
        "reviews: AWFUL. \n",
        "\n",
        "***************************************************************************************************\n",
        "\n",
        "business id: WRjMDL79KQ0ZG5yCdfJiYA\n",
        "stars: 1\n",
        "scores: -0.483239\n",
        "reviews: Terrible \n",
        "\n",
        "***************************************************************************************************\n",
        "\n"
       ]
      }
     ],
     "prompt_number": 21
    },
    {
     "cell_type": "markdown",
     "metadata": {},
     "source": [
      "From the examples above, it looks like the model did a good job at identifying the extremely positive and negative reviews and, based on the actual star ratings, it seems that it can correctly predict their ratings as well. However, we have to bear in mind that all the sentiment scores are calculated in a supervised fashion with the ratings already factored in, so it *should* work well in the same training data. Later, we are going to apply the model to the carved out test set to see how it really performs."
     ]
    },
    {
     "cell_type": "code",
     "collapsed": false,
     "input": [
      "pd.to_pickle(reviews_train, 'reviews_train.pkl')"
     ],
     "language": "python",
     "metadata": {},
     "outputs": [],
     "prompt_number": 22
    },
    {
     "cell_type": "heading",
     "level": 2,
     "metadata": {},
     "source": [
      "2.4 Calculating industry median ratings"
     ]
    },
    {
     "cell_type": "markdown",
     "metadata": {},
     "source": [
      "Lastly, let's quickly calculate the industry median ratings to be used later to predict the ratings for the reviews with an N/A score (i.e., reviews containing only infrequent or foreign words)."
     ]
    },
    {
     "cell_type": "code",
     "collapsed": false,
     "input": [
      "# calculate the industry median ratings\n",
      "stars_by_cat = reviews_train.groupby('category')['stars'].median()\n",
      "stars_by_cat"
     ],
     "language": "python",
     "metadata": {},
     "outputs": [
      {
       "metadata": {},
       "output_type": "pyout",
       "prompt_number": 25,
       "text": [
        "category\n",
        "Active Life                     4\n",
        "Arts & Entertainment            4\n",
        "Automotive                      5\n",
        "Beauty & Spas                   5\n",
        "Education                       5\n",
        "Event Planning & Services       4\n",
        "Financial Services              4\n",
        "Health & Medical                5\n",
        "Home Services                   5\n",
        "Hotels & Travel                 3\n",
        "Local Services                  5\n",
        "Nightlife                       4\n",
        "Pets                            5\n",
        "Professional Services           5\n",
        "Public Services & Government    4\n",
        "Religious Organizations         5\n",
        "Restaurants                     4\n",
        "Shopping                        4\n",
        "Name: stars, dtype: float64"
       ]
      }
     ],
     "prompt_number": 25
    },
    {
     "cell_type": "code",
     "collapsed": false,
     "input": [
      "pd.to_pickle(stars_by_cat, 'stars_by_cat.pkl')"
     ],
     "language": "python",
     "metadata": {},
     "outputs": [],
     "prompt_number": 26
    },
    {
     "cell_type": "code",
     "collapsed": false,
     "input": [],
     "language": "python",
     "metadata": {},
     "outputs": []
    }
   ],
   "metadata": {}
  }
 ]
}