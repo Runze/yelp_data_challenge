{
 "metadata": {
  "name": "",
  "signature": "sha256:5b55016a27b24d021f3a12e07664ceb3d0a0b68036fed53998755c10333176e7"
 },
 "nbformat": 3,
 "nbformat_minor": 0,
 "worksheets": [
  {
   "cells": [
    {
     "cell_type": "heading",
     "level": 1,
     "metadata": {},
     "source": [
      "2. Analyzing reviews"
     ]
    },
    {
     "cell_type": "markdown",
     "metadata": {},
     "source": [
      "In this module, I'm going to take a closer look at the text reviews, parse them into words, and, based on how their appearances correlate with the star ratings, construct a dictionary of words with estimated sentiment scores, which will then be used to infer the sentiment of the reviews themselves."
     ]
    },
    {
     "cell_type": "code",
     "collapsed": false,
     "input": [
      "import pandas as pd\n",
      "from pandas import DataFrame\n",
      "import numpy as np\n",
      "import re\n",
      "from sklearn.feature_extraction.text import CountVectorizer\n",
      "import cPickle as pickle\n",
      "from __future__ import division\n",
      "from scipy.sparse import csr_matrix\n",
      "import matplotlib.pyplot as plt\n",
      "import seaborn as sns\n",
      "%matplotlib inline\n",
      "%cd /Users/Runze/Google Drive/Yelp/yelp_dataset_challenge_academic_dataset"
     ],
     "language": "python",
     "metadata": {},
     "outputs": [
      {
       "output_type": "stream",
       "stream": "stdout",
       "text": [
        "/Users/Runze/Google Drive/Yelp/yelp_dataset_challenge_academic_dataset\n"
       ]
      }
     ],
     "prompt_number": 1
    },
    {
     "cell_type": "heading",
     "level": 2,
     "metadata": {},
     "source": [
      "2.1 Splitting data into training and testing sets"
     ]
    },
    {
     "cell_type": "markdown",
     "metadata": {},
     "source": [
      "First, before performing any training, let's first carve out 30% of the data and leave them out of the whole training process and only use them for testing later."
     ]
    },
    {
     "cell_type": "code",
     "collapsed": false,
     "input": [
      "reviews = pd.read_pickle('reviews.pkl')"
     ],
     "language": "python",
     "metadata": {},
     "outputs": [],
     "prompt_number": 2
    },
    {
     "cell_type": "code",
     "collapsed": false,
     "input": [
      "# split into training and test set with equal proportions for each category and rating (i.e., stratified sampling)\n",
      "def group_sample(group):\n",
      "    ix = list(group.index)\n",
      "    np.random.seed(2014)\n",
      "    np.random.shuffle(ix)\n",
      "    \n",
      "    train_ix, test_ix = ix[:int(.7 * len(ix))], ix[int(.7 * len(ix)):]\n",
      "    return (train_ix, test_ix)\n",
      "\n",
      "ixs = reviews.groupby(['category', 'stars']).apply(group_sample)\n",
      "train_ix, test_ix = sum([ix[0] for ix in ixs], []), sum([ix[1] for ix in ixs], [])\n",
      "\n",
      "reviews_train = reviews.ix[train_ix]\n",
      "reviews_test = reviews.ix[test_ix]"
     ],
     "language": "python",
     "metadata": {},
     "outputs": [],
     "prompt_number": 3
    },
    {
     "cell_type": "code",
     "collapsed": false,
     "input": [
      "reviews_train.to_pickle('reviews_train.pkl')\n",
      "reviews_test.to_pickle('reviews_test.pkl')"
     ],
     "language": "python",
     "metadata": {},
     "outputs": [],
     "prompt_number": 4
    },
    {
     "cell_type": "heading",
     "level": 2,
     "metadata": {},
     "source": [
      "2.2 Calculating sentiment scores for the words in the training set"
     ]
    },
    {
     "cell_type": "code",
     "collapsed": false,
     "input": [
      "# clean reviews by keeping only alphabetic characters and exclamation marks\n",
      "text_cleaned = [re.sub(r'!', ' exclamation', text) for text in reviews_train['text']]\n",
      "text_cleaned = [text.lower() for text in text_cleaned]\n",
      "text_cleaned = [re.sub(r'[^a-z]', ' ', text) for text in text_cleaned]\n",
      "reviews_train['text_cleaned'] = text_cleaned"
     ],
     "language": "python",
     "metadata": {},
     "outputs": [],
     "prompt_number": 5
    },
    {
     "cell_type": "code",
     "collapsed": false,
     "input": [
      "# create document-term matrix using the cleaned reviews\n",
      "vectorizer = CountVectorizer(min_df = 100)\n",
      "dtm = vectorizer.fit_transform(reviews_train['text_cleaned'])\n",
      "dtm.shape"
     ],
     "language": "python",
     "metadata": {
      "slideshow": {
       "slide_type": "slide"
      }
     },
     "outputs": [
      {
       "output_type": "stream",
       "stream": "stderr",
       "text": [
        "/Users/Runze/Library/Enthought/Canopy_64bit/User/lib/python2.7/site-packages/numpy/core/fromnumeric.py:2499: VisibleDeprecationWarning: `rank` is deprecated; use the `ndim` attribute or function instead. To find the rank of a matrix see `numpy.linalg.matrix_rank`.\n",
        "  VisibleDeprecationWarning)\n"
       ]
      },
      {
       "metadata": {},
       "output_type": "pyout",
       "prompt_number": 6,
       "text": [
        "(787776, 15787)"
       ]
      }
     ],
     "prompt_number": 6
    },
    {
     "cell_type": "code",
     "collapsed": false,
     "input": [
      "with open('dtm_train.pkl', 'wb') as output:\n",
      "    pickle.dump(dtm, output)"
     ],
     "language": "python",
     "metadata": {},
     "outputs": [],
     "prompt_number": 7
    },
    {
     "cell_type": "markdown",
     "metadata": {},
     "source": [
      "Here, when creating the document-term matrix, I decided not to remove any stopwords because I found some of them, like \"not\" or \"nothing,\" carry informative sentiment content that can help infer the overall sentiment of a review. Also, as shown below, the method I used to calculate the sentiment scores is robust to \"real\" stopwords that show up everywhere but carry little or no meaning."
     ]
    },
    {
     "cell_type": "markdown",
     "metadata": {},
     "source": [
      "To calculate sentiment scores, first calculate the percentage of time a word \"spends\" on each document, defined as its usage in each individual document divided by its total usage across all documents (i.e., the column sum), thus creating a modified document-term matrix whose elements are all \"percentage frequencies.\""
     ]
    },
    {
     "cell_type": "code",
     "collapsed": false,
     "input": [
      "# calculate the total frequency across all documents for each word (i.e., the column sums)\n",
      "freq = csr_matrix.sum(dtm, 0)\n",
      "\n",
      "# devide the individual frequency by the total frequency to calculate the percentage of time a word \"spends\" on each document\n",
      "freq_inverse = np.repeat(1, freq.shape[1]) / freq\n",
      "freq_inverse = csr_matrix(freq_inverse)\n",
      "dtm_prc = dtm.multiply(freq_inverse)"
     ],
     "language": "python",
     "metadata": {},
     "outputs": [],
     "prompt_number": 8
    },
    {
     "cell_type": "markdown",
     "metadata": {},
     "source": [
      "Then, for each word, multiply its percentage frequency in each document by the number of stars the reviewer ultimately assigned to the business (normalized to [-1, 1]), and sum these weighted frequencies across all documents to arrive at the word's sentiment score.\n",
      "\n",
      "As an example, say the word \"good\" shows up 5 times in a 5-star review, 4 times in a 4-star review, ..., and 1 time in a 1-star review, its sentiment score would be (5 \\* 1 + 4 \\* 0.5 + 3 \\* 0 + 2 \\* (-0.5) + 1 \\* (-1)) / (5 + 4 + 3 + 2 + 1) = 0.33, indicating moderately postive sentiment.\n",
      "\n",
      "As a couple extreme examples, if a word only appears in 5-star reviews, its sentiment score would be 1, and if it only appears in 1-star reviews, its score would be -1.\n",
      "\n",
      "What about highly frequent words that don't mean much (e.g., stopwords)? As shown in the first example, showing up everywhere will dilute a word's overall effect. In an extreme example, if a word's usage is evenly distributed across all documents, its final score would be 0, indicating abosulately neutral effect.\n",
      "\n",
      "On a related note, using a word's percentage frequencies instead of its raw frequencies has the benefit of discovering less frequent words and rating them appropriately. For example, as shown in the first module, the amount of restaurant reviews greatly dwarfed that of the others'. Hence, if we just consider words' raw usage, we may inadvertently rate such industry-specific terms as \"delicious\" and \"yummy\" to the top while ignoring words that are used more in other industries but convey just as much meanings (e.g., \"responsive,\" \"fair\"). Using the percentage frequencies, on the other hand, will give every word an equal chance.\n",
      "\n",
      "Here is how it's calculated:"
     ]
    },
    {
     "cell_type": "code",
     "collapsed": false,
     "input": [
      "# calculate the sentiment score for each word by weighting its percentage frequency by the number of stars\n",
      "# first normalize the star ratings to [-1, 1]:\n",
      "def normalization(series):\n",
      "    return (2 * series - (series.max() + series.min())) / (series.max() - series.min())\n",
      "stars_norm = normalization(reviews_train['stars'])\n",
      "\n",
      "# calculate word scores using the normlized star ratings\n",
      "word_score = dtm_prc.T * stars_norm\n",
      "sns.distplot(word_score, kde = False)"
     ],
     "language": "python",
     "metadata": {},
     "outputs": [
      {
       "metadata": {},
       "output_type": "pyout",
       "prompt_number": 9,
       "text": [
        "<matplotlib.axes._subplots.AxesSubplot at 0x103593a10>"
       ]
      },
      {
       "metadata": {},
       "output_type": "display_data",
       "png": "[encoded data removed]",
       "text": [
        "<matplotlib.figure.Figure at 0x1b456d1d0>"
       ]
      }
     ],
     "prompt_number": 9
    },
    {
     "cell_type": "markdown",
     "metadata": {},
     "source": [
      "As shown in the left-skewed histogram above, using such method seems to overweight a word's sentiment. Indeed, even true stopwords like \"the\" recieves a moderately positive score. This is partly due to the large amount of positive reviews in the dataset. A potential remedy may be to \"penalize\" words appeared in the negative reviews more."
     ]
    },
    {
     "cell_type": "code",
     "collapsed": false,
     "input": [
      "# combine with the terms\n",
      "word2score = dict(zip(vectorizer.get_feature_names(), word_score))"
     ],
     "language": "python",
     "metadata": {},
     "outputs": [],
     "prompt_number": 10
    },
    {
     "cell_type": "code",
     "collapsed": false,
     "input": [
      "# check out the most favorable words\n",
      "sorted(word2score.items(), key = lambda x: -x[1])[:30]"
     ],
     "language": "python",
     "metadata": {},
     "outputs": [
      {
       "metadata": {},
       "output_type": "pyout",
       "prompt_number": 11,
       "text": [
        "[(u'acupuncture', 0.89080459770115061),\n",
        " (u'crossfit', 0.87650085763293251),\n",
        " (u'chiropractic', 0.86490683229813359),\n",
        " (u'barre', 0.8629518072289164),\n",
        " (u'perfectionist', 0.85750000000000037),\n",
        " (u'chiropractors', 0.83986928104574965),\n",
        " (u'unmatched', 0.83552631578947589),\n",
        " (u'vaping', 0.83333333333333226),\n",
        " (u'listens', 0.82758620689655427),\n",
        " (u'biaggio', 0.81276595744680902),\n",
        " (u'vape', 0.80783582089552197),\n",
        " (u'meticulous', 0.80174563591022074),\n",
        " (u'compassionate', 0.79024390243902498),\n",
        " (u'troy', 0.79004329004328955),\n",
        " (u'tran', 0.78915662650602425),\n",
        " (u'passionate', 0.78656716417909045),\n",
        " (u'exceeded', 0.77926920208797623),\n",
        " (u'dedication', 0.77666666666666417),\n",
        " (u'unparalleled', 0.77227722772277285),\n",
        " (u'coaches', 0.77166666666666628),\n",
        " (u'workouts', 0.77145359019264259),\n",
        " (u'mahalo', 0.77102803738317749),\n",
        " (u'creamiest', 0.77064220183486087),\n",
        " (u'mazing', 0.76943005181347368),\n",
        " (u'canine', 0.76694915254237206),\n",
        " (u'gem', 0.7665724381625556),\n",
        " (u'impeccable', 0.76432107496461621),\n",
        " (u'langoustine', 0.76304347826086816),\n",
        " (u'soho', 0.76282051282051178),\n",
        " (u'foodgasm', 0.76016260162601701)]"
       ]
      }
     ],
     "prompt_number": 11
    },
    {
     "cell_type": "markdown",
     "metadata": {},
     "source": [
      "Interestingly, the top favorable words found by this method have nothing to do with the restaurant industry, which suggests that less common business such as acupuncture and crossfit generally received positive reviews."
     ]
    },
    {
     "cell_type": "code",
     "collapsed": false,
     "input": [
      "# check out the most negative words\n",
      "sorted(word2score.items(), key = lambda x: x[1])[:30]"
     ],
     "language": "python",
     "metadata": {},
     "outputs": [
      {
       "metadata": {},
       "output_type": "pyout",
       "prompt_number": 12,
       "text": [
        "[(u'disrespected', -0.82786885245901676),\n",
        " (u'unethical', -0.81767955801104852),\n",
        " (u'crooks', -0.80722891566264943),\n",
        " (u'fraud', -0.78673835125448122),\n",
        " (u'livid', -0.76502732240437232),\n",
        " (u'liars', -0.76153846153846017),\n",
        " (u'incompetence', -0.75117370892018753),\n",
        " (u'dishonest', -0.74912891986062746),\n",
        " (u'rudest', -0.74180327868852436),\n",
        " (u'disgrace', -0.73743016759776681),\n",
        " (u'disrespectful', -0.73341523341523318),\n",
        " (u'unprofessional', -0.72723492723490213),\n",
        " (u'audacity', -0.72151898734176978),\n",
        " (u'refund', -0.7081593318342625),\n",
        " (u'incompetent', -0.6950904392764865),\n",
        " (u'rudely', -0.68851717902351228),\n",
        " (u'scam', -0.68460764587524892),\n",
        " (u'liar', -0.67543859649122673),\n",
        " (u'unhelpful', -0.66385767790262129),\n",
        " (u'dispute', -0.66205533596837762),\n",
        " (u'appalling', -0.655241935483872),\n",
        " (u'uncaring', -0.65363128491620204),\n",
        " (u'deplorable', -0.65357142857142725),\n",
        " (u'appalled', -0.65301724137931205),\n",
        " (u'accused', -0.63879598662207326),\n",
        " (u'worst', -0.63786283520438491),\n",
        " (u'argued', -0.63620386643233673),\n",
        " (u'feces', -0.63524590163934469),\n",
        " (u'poisoning', -0.633131618759459),\n",
        " (u'disgusted', -0.62866817155756149)]"
       ]
      }
     ],
     "prompt_number": 12
    },
    {
     "cell_type": "code",
     "collapsed": false,
     "input": [
      "with open('word2score.pkl', 'wb') as output:\n",
      "    pickle.dump(word2score, output)"
     ],
     "language": "python",
     "metadata": {},
     "outputs": [],
     "prompt_number": 13
    },
    {
     "cell_type": "heading",
     "level": 2,
     "metadata": {},
     "source": [
      "2.3 Calculating sentiment scores for the reviews in the training set"
     ]
    },
    {
     "cell_type": "markdown",
     "metadata": {},
     "source": [
      "To aggregate word-specific sentiment scores into an overall score for the review, I first multiply the document's word frequencies by their respective sentiment scores, hence creating a weighted word count. I then divide it by the raw word count to restrict it between -1 and 1. In the extreme cases, if all the words in a review receives a sentiment score of 1, the resulting score for the review itself will be 1 as well, indicating extremely positive. On the other hand, if only negative words are used, the aggregated score will be close to -1 too."
     ]
    },
    {
     "cell_type": "code",
     "collapsed": false,
     "input": [
      "# calculate sentiment scores for each reviews\n",
      "review_score = dtm * np.atleast_2d(word_score).T\n",
      "\n",
      "# divide the scores by the total number of words in each document\n",
      "dtm_row_sum = csr_matrix.sum(dtm, 1)\n",
      "review_score = review_score / dtm_row_sum"
     ],
     "language": "python",
     "metadata": {},
     "outputs": [],
     "prompt_number": 14
    },
    {
     "cell_type": "code",
     "collapsed": false,
     "input": [
      "# for reviews that don't include any words in the dtm, replace the 0 scores with NAs\n",
      "review_score[dtm_row_sum == 0] = np.nan\n",
      "print 'the number of reviews with NA scores:', sum(pd.isnull(review_score))[0, 0]"
     ],
     "language": "python",
     "metadata": {},
     "outputs": [
      {
       "output_type": "stream",
       "stream": "stdout",
       "text": [
        "the number of reviews with NA scores: "
       ]
      },
      {
       "output_type": "stream",
       "stream": "stdout",
       "text": [
        "112\n"
       ]
      }
     ],
     "prompt_number": 15
    },
    {
     "cell_type": "code",
     "collapsed": false,
     "input": [
      "# combine scores with the reviews\n",
      "reviews_train['score'] = review_score\n",
      "\n",
      "# visualize distribution of the scores\n",
      "fig, axs = plt.subplots(1, 2)\n",
      "reviews_train['score'].hist(bins = 60, ax = axs[0], figsize = (16, 4))\n",
      "sns.boxplot(reviews_train['score'], reviews_train['stars'])"
     ],
     "language": "python",
     "metadata": {},
     "outputs": [
      {
       "metadata": {},
       "output_type": "pyout",
       "prompt_number": 16,
       "text": [
        "<matplotlib.axes._subplots.AxesSubplot at 0x112950a10>"
       ]
      },
      {
       "metadata": {},
       "output_type": "display_data",
       "png": "[encoded data removed]",
       "text": [
        "<matplotlib.figure.Figure at 0x1b91aa4d0>"
       ]
      }
     ],
     "prompt_number": 16
    },
    {
     "cell_type": "markdown",
     "metadata": {},
     "source": [
      "As the histogram shows, the distribution of the review scores is rather narrow and is closely centered around 0.3, suggesting mildly positive sentiments. As shown in the boxplot, although the medians in each rating bucket do not seem to differ that much, the interquartile ranges are actually quite small, indicating that, barring upper and lower quantiles, the obtained scores may indeed potentially help discriminate reviews. However, ideally, we would want them to be more widely distributed.\n",
      "\n",
      "Next, let's take a look at the reviews that received the most extreme scores per each star rating to detect apparent misclassifications (e.g., one-star reviews receiving extremely high sentiment scores):"
     ]
    },
    {
     "cell_type": "code",
     "collapsed": false,
     "input": [
      "print 'the most favorite reviews by star:'\n",
      "print reviews_train.groupby('stars').apply(lambda x: x.sort('score', ascending = False)['text'][:5])\n",
      "print\n",
      "print 'the least favorite reviews by star:'\n",
      "print reviews_train.groupby('stars').apply(lambda x: x.sort('score')['text'][:5])"
     ],
     "language": "python",
     "metadata": {},
     "outputs": [
      {
       "output_type": "stream",
       "stream": "stdout",
       "text": [
        "the most favorite reviews by star:\n",
        "stars         \n",
        "1      993933                                               Awesome\n",
        "       878831                                                 Yummy\n",
        "       1064763                                                Great\n",
        "       559821                                   Satan's playground.\n",
        "       815578                                                Wow...\n",
        "2      362265                                        Haha Pheast!!!\n",
        "       512446                                           Great music\n",
        "       436377                                           Nice views.\n",
        "       320723                                           Nice views.\n",
        "       822633                                      Red chandeliers!\n",
        "3      855124                                                   Nom\n",
        "       677311                                                   Yum\n",
        "       610471                                       beautiful salon\n",
        "       451449                            Love love love the custard\n",
        "       360754                                     Yummy hummus.....\n",
        "4      712215                                                Awsome\n",
        "       444073                                                Awsome\n",
        "       191014                                              Amazing.\n",
        "       380661                                             Yummmm...\n",
        "       60862                                         Deliciousness-\n",
        "5      1024145                                    Y.U.M.\\nAddicted.\n",
        "       984756                                            perfection\n",
        "       251531                                                Awsome\n",
        "       557189     Amazing Amazing Amazing Amazing Amazing Amazin...\n",
        "       1043093                                      Amazing Burgrs.\n",
        "Name: text, dtype: object"
       ]
      },
      {
       "output_type": "stream",
       "stream": "stdout",
       "text": [
        "\n",
        "\n",
        "the least favorite reviews by star:\n",
        "stars         \n",
        "1      787620     scam scam scam scam scam scam scam scam scam s...\n",
        "       394182                                  Rude. Ruder. Rudest.\n",
        "       950555                                            Disgusting\n",
        "       256461                                              Horrible\n",
        "       83423                                              Horrible.\n",
        "2      346834                                             Pathetic.\n",
        "       1041915                                           Unreliable\n",
        "       670686                                                 Yuck.\n",
        "       721919                                           Mediocre...\n",
        "       372160                                                 Bland\n",
        "3      406709                                                   RIP\n",
        "       53102                                               mediocre\n",
        "       595410                                                   Ugh\n",
        "       121530                                Severely understaffed.\n",
        "       620396                                                  Meh.\n",
        "4      1033402                                                 A-ok\n",
        "       767879                                                    Ok\n",
        "       48159                                                    Eh.\n",
        "       221976     Just got a loyalty email w/ a broken link, rep...\n",
        "       590666                               No additional comments.\n",
        "5      989568                                               Deleted\n",
        "       26624                                          ;( RIP Chuy's\n",
        "       54538                                                    Bye\n",
        "       655175                                   Sorry wrong restsur\n",
        "       942428                                                    Ok\n",
        "Name: text, dtype: object"
       ]
      },
      {
       "output_type": "stream",
       "stream": "stdout",
       "text": [
        "\n"
       ]
      }
     ],
     "prompt_number": 17
    },
    {
     "cell_type": "markdown",
     "metadata": {},
     "source": [
      "There are indeed some interesting anomalies. For example, looking at the one-star reviews with the highest sentiment scores, I can understand the model missed idioms and sarcasms like \"Satan's playground\" and \"Wow...,\" but I can't quite figure out how words like \"Awesome,\" \"Yummy,\" and \"Great\" led to a one-star review (did someone's hand slip?). As another head-scratching example, the word \"Awesome\" (or \"Awsome\" barring the mispelling) appears in one-star reviews as well as those of five stars. Perhaps these outliers suggest the uncertainty and even randomness in the rating assignment or some other idiosyncratic factors the model failes to consider here. For example, some reviewers might be tougher than others and all his/her ratings are lower than average. To account for such instances, we'll need to utilize the reviewer information as well. Also this problem highlights the limitation of using the review text alone as some, like \"Deleted\" and \"Bye\" above, do not convey sufficient sentiment information.\n",
      "\n",
      "Despite these drawbacks, let's take a look at the most favorable and the most negative reviews found by the model:"
     ]
    },
    {
     "cell_type": "code",
     "collapsed": false,
     "input": [
      "# check out the most favorable reviews\n",
      "reviews_train_excl_na = reviews_train.dropna(subset = ['score']).sort(columns = 'score', ascending = False)\n",
      "for i in xrange(10):\n",
      "    print 'business id:', reviews_train_excl_na.iloc[i]['business_id']\n",
      "    print 'stars: %d\\nscores: %f' % (reviews_train_excl_na.iloc[i]['stars'], reviews_train_excl_na.iloc[i]['score'])\n",
      "    print 'reviews:', reviews_train_excl_na.iloc[i]['text'], '\\n'\n",
      "    print '***************************************************************************************************\\n'"
     ],
     "language": "python",
     "metadata": {},
     "outputs": [
      {
       "output_type": "stream",
       "stream": "stdout",
       "text": [
        "business id: l0QCZhMOPUId1Xfp23yLgA\n",
        "stars: 5\n",
        "scores: 0.743783\n",
        "reviews: Y.U.M.\n",
        "Addicted. \n",
        "\n",
        "***************************************************************************************************\n",
        "\n",
        "business id: mDdqifuTrfXAOfxiLMGu5Q\n",
        "stars: 5\n",
        "scores: 0.743020\n",
        "reviews: perfection \n",
        "\n",
        "***************************************************************************************************\n",
        "\n",
        "business id: E4AkhjuG-DY2DTcBrkxkGg\n",
        "stars: 5\n",
        "scores: 0.722698\n",
        "reviews: Awsome \n",
        "\n",
        "***************************************************************************************************\n",
        "\n",
        "business id: tomw3dn386aTe6RGOxn5BQ\n",
        "stars: 4\n",
        "scores: 0.722698\n",
        "reviews: Awsome \n",
        "\n",
        "***************************************************************************************************\n",
        "\n",
        "business id: kSgqFNVw-3QS-hPvoVLGxA\n",
        "stars: 4\n",
        "scores: 0.722698\n",
        "reviews: Awsome \n",
        "\n",
        "***************************************************************************************************\n",
        "\n",
        "business id: naLrErBuJr9IWd6_rv6-XQ\n",
        "stars: 5\n",
        "scores: 0.719852\n",
        "reviews: Amazing. \n",
        "\n",
        "***************************************************************************************************\n",
        "\n",
        "business id: HUR7B6X_f_V_50w4pfoyyQ\n",
        "stars: 4\n",
        "scores: 0.719852\n",
        "reviews: Amazing. \n",
        "\n",
        "***************************************************************************************************\n",
        "\n",
        "business id: _CHH9KN1bO5cs_GHjQ-r1A\n",
        "stars: 5\n",
        "scores: 0.719852\n",
        "reviews: Amazing \n",
        "\n",
        "***************************************************************************************************\n",
        "\n",
        "business id: qLa_684GMvVfR4WNHshQSA\n",
        "stars: 5\n",
        "scores: 0.719852\n",
        "reviews: amazing \n",
        "\n",
        "***************************************************************************************************\n",
        "\n",
        "business id: SDwYQ6eSu1htn8vHWv128g\n",
        "stars: 5\n",
        "scores: 0.719852\n",
        "reviews: Amazing \n",
        "\n",
        "***************************************************************************************************\n",
        "\n"
       ]
      }
     ],
     "prompt_number": 18
    },
    {
     "cell_type": "code",
     "collapsed": false,
     "input": [
      "# and the least favorable ones\n",
      "base_ind = len(reviews_train_excl_na) - 1\n",
      "for i in xrange(10):\n",
      "    print 'business id:', reviews_train_excl_na.iloc[base_ind - i]['business_id']\n",
      "    print 'stars: %d\\nscores: %f' % (reviews_train_excl_na.iloc[base_ind - i]['stars'], \n",
      "                                               reviews_train_excl_na.iloc[base_ind - i]['score'])\n",
      "    print 'reviews:', reviews_train_excl_na.iloc[base_ind - i]['text'], '\\n'\n",
      "    print '***************************************************************************************************\\n'"
     ],
     "language": "python",
     "metadata": {},
     "outputs": [
      {
       "output_type": "stream",
       "stream": "stdout",
       "text": [
        "business id: jx_HCWdPEQXpxtqu5F8h8Q\n",
        "stars: 1\n",
        "scores: -0.684608\n",
        "reviews: scam scam scam scam scam scam scam scam scam scam scam scam scam scam scam scam scam scam \n",
        "\n",
        "***************************************************************************************************\n",
        "\n",
        "business id: mzbQCUmd135tsNW6hY3G6A\n",
        "stars: 1\n",
        "scores: -0.645103\n",
        "reviews: Rude. Ruder. Rudest. \n",
        "\n",
        "***************************************************************************************************\n",
        "\n",
        "business id: EolW2H_wkpYwWbBURN_4gQ\n",
        "stars: 1\n",
        "scores: -0.597927\n",
        "reviews: Disgusting \n",
        "\n",
        "***************************************************************************************************\n",
        "\n",
        "business id: 30D7YdANEhqrR5u5UCeg5g\n",
        "stars: 1\n",
        "scores: -0.571179\n",
        "reviews: Horrible \n",
        "\n",
        "***************************************************************************************************\n",
        "\n",
        "business id: T4eOhjoc0xas9WOG_TmbAg\n",
        "stars: 1\n",
        "scores: -0.571179\n",
        "reviews: Horrible. \n",
        "\n",
        "***************************************************************************************************\n",
        "\n",
        "business id: h2qjuP65Qgyoo0t1bnp4jA\n",
        "stars: 1\n",
        "scores: -0.571179\n",
        "reviews: Horrible. \n",
        "\n",
        "***************************************************************************************************\n",
        "\n",
        "business id: 2dioqPw6txEgB397frYg-A\n",
        "stars: 2\n",
        "scores: -0.506654\n",
        "reviews: Pathetic. \n",
        "\n",
        "***************************************************************************************************\n",
        "\n",
        "business id: yruIfyQTNif460EfZQiBIw\n",
        "stars: 2\n",
        "scores: -0.503906\n",
        "reviews: Unreliable \n",
        "\n",
        "***************************************************************************************************\n",
        "\n",
        "business id: qeP2nIq3TCmhWFaFvaPtWA\n",
        "stars: 1\n",
        "scores: -0.500453\n",
        "reviews: Awful \n",
        "\n",
        "***************************************************************************************************\n",
        "\n",
        "business id: Mzvb9KyqVhrDA7wGhkTAKg\n",
        "stars: 1\n",
        "scores: -0.500453\n",
        "reviews: AWFUL. \n",
        "\n",
        "***************************************************************************************************\n",
        "\n"
       ]
      }
     ],
     "prompt_number": 19
    },
    {
     "cell_type": "markdown",
     "metadata": {},
     "source": [
      "From the examples above, it looks like the model did a good job at identifying the extremely positive and negative reviews and, based on the actual star ratings, it seems that it can correctly predict their ratings as well. However, we have to bear in mind that all the sentiment scores are calculated in a supervised fashion with the ratings already factored in, so it *should* work well in the same training data. Later, we are going to apply the model to the carved out test set to see how it really performs."
     ]
    },
    {
     "cell_type": "code",
     "collapsed": false,
     "input": [
      "reviews_train.to_pickle('reviews_train.pkl')"
     ],
     "language": "python",
     "metadata": {},
     "outputs": [],
     "prompt_number": 20
    },
    {
     "cell_type": "heading",
     "level": 2,
     "metadata": {},
     "source": [
      "2.4 Calculating industry median ratings"
     ]
    },
    {
     "cell_type": "markdown",
     "metadata": {},
     "source": [
      "Lastly, let's quickly calculate the industry median ratings to be used later to predict the ratings for the reviews with an N/A score (i.e., reviews containing only infrequent or foreign words)."
     ]
    },
    {
     "cell_type": "code",
     "collapsed": false,
     "input": [
      "# calculate the industry median ratings\n",
      "stars_by_cat = reviews_train.groupby('category')['stars'].median()\n",
      "stars_by_cat"
     ],
     "language": "python",
     "metadata": {},
     "outputs": [
      {
       "metadata": {},
       "output_type": "pyout",
       "prompt_number": 21,
       "text": [
        "category\n",
        "Active Life                     4\n",
        "Arts & Entertainment            4\n",
        "Automotive                      5\n",
        "Beauty & Spas                   5\n",
        "Education                       5\n",
        "Event Planning & Services       4\n",
        "Financial Services              4\n",
        "Health & Medical                5\n",
        "Home Services                   5\n",
        "Hotels & Travel                 3\n",
        "Local Services                  5\n",
        "NA                              4\n",
        "Nightlife                       4\n",
        "Pets                            5\n",
        "Professional Services           5\n",
        "Public Services & Government    4\n",
        "Religious Organizations         5\n",
        "Restaurants                     4\n",
        "Shopping                        4\n",
        "Name: stars, dtype: int64"
       ]
      }
     ],
     "prompt_number": 21
    },
    {
     "cell_type": "code",
     "collapsed": false,
     "input": [
      "stars_by_cat.to_pickle('stars_by_cat.pkl')"
     ],
     "language": "python",
     "metadata": {},
     "outputs": [],
     "prompt_number": 22
    },
    {
     "cell_type": "code",
     "collapsed": false,
     "input": [],
     "language": "python",
     "metadata": {},
     "outputs": [],
     "prompt_number": 22
    }
   ],
   "metadata": {}
  }
 ]
}