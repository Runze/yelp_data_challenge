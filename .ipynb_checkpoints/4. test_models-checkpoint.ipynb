{
 "metadata": {
  "name": "",
  "signature": "sha256:7238d120970f34243a30ef7653722965281dd1eddc8ef21a40edb3c5298f0121"
 },
 "nbformat": 3,
 "nbformat_minor": 0,
 "worksheets": [
  {
   "cells": [
    {
     "cell_type": "heading",
     "level": 1,
     "metadata": {},
     "source": [
      "4. Applying the model to the test set"
     ]
    },
    {
     "cell_type": "markdown",
     "metadata": {},
     "source": [
      "Now we can finally look at the test set! In this step, I'm going to first process the raw reviews in the same way as I did in the training set and calculate the sentiment scores for them. Then I'll apply the winning model from the prior step, gradient boost trees, to the computed scores to predict their star ratings."
     ]
    },
    {
     "cell_type": "code",
     "collapsed": false,
     "input": [
      "import pandas as pd\n",
      "import numpy as np\n",
      "import re\n",
      "from sklearn.feature_extraction.text import CountVectorizer\n",
      "from sklearn import externals, metrics\n",
      "import cPickle as pickle\n",
      "from __future__ import division\n",
      "from scipy.sparse import csr_matrix\n",
      "import matplotlib.pyplot as plt\n",
      "import seaborn as sns\n",
      "%matplotlib inline\n",
      "%cd /Users/Runze/Google Drive/Yelp/yelp_dataset_challenge_academic_dataset"
     ],
     "language": "python",
     "metadata": {},
     "outputs": [
      {
       "output_type": "stream",
       "stream": "stdout",
       "text": [
        "/Users/Runze/Google Drive/Yelp/yelp_dataset_challenge_academic_dataset\n"
       ]
      }
     ],
     "prompt_number": 1
    },
    {
     "cell_type": "heading",
     "level": 2,
     "metadata": {},
     "source": [
      "4.1 Calculating sentiment scores"
     ]
    },
    {
     "cell_type": "code",
     "collapsed": false,
     "input": [
      "reviews_test = pd.read_pickle('reviews_test.pkl')"
     ],
     "language": "python",
     "metadata": {},
     "outputs": [],
     "prompt_number": 2
    },
    {
     "cell_type": "code",
     "collapsed": false,
     "input": [
      "# clean test reviews\n",
      "text_cleaned = [re.sub(r'!', ' exclamation', text) for text in reviews_test['text']]\n",
      "text_cleaned = [text.lower() for text in text_cleaned]\n",
      "text_cleaned = [re.sub(r'[^a-z]', ' ', text) for text in text_cleaned]\n",
      "reviews_test['text_cleaned'] = text_cleaned"
     ],
     "language": "python",
     "metadata": {},
     "outputs": [],
     "prompt_number": 3
    },
    {
     "cell_type": "code",
     "collapsed": false,
     "input": [
      "# create document-term matrix using only the words used in the training dtm\n",
      "with open('word2score.pkl', 'rb') as w2s_input:\n",
      "    word2score = pickle.load(w2s_input)"
     ],
     "language": "python",
     "metadata": {},
     "outputs": [],
     "prompt_number": 4
    },
    {
     "cell_type": "code",
     "collapsed": false,
     "input": [
      "vectorizer = CountVectorizer(vocabulary = word2score.keys())\n",
      "dtm = vectorizer.fit_transform(reviews_test['text_cleaned'])\n",
      "dtm.shape"
     ],
     "language": "python",
     "metadata": {},
     "outputs": [
      {
       "output_type": "stream",
       "stream": "stderr",
       "text": [
        "/Users/Runze/Library/Enthought/Canopy_64bit/User/lib/python2.7/site-packages/numpy/core/fromnumeric.py:2499: VisibleDeprecationWarning: `rank` is deprecated; use the `ndim` attribute or function instead. To find the rank of a matrix see `numpy.linalg.matrix_rank`.\n",
        "  VisibleDeprecationWarning)\n"
       ]
      },
      {
       "metadata": {},
       "output_type": "pyout",
       "prompt_number": 5,
       "text": [
        "(337682, 15787)"
       ]
      }
     ],
     "prompt_number": 5
    },
    {
     "cell_type": "code",
     "collapsed": false,
     "input": [
      "# look up word scores and compute sentiment scores\n",
      "word_score = np.array([word2score[word] for word in vectorizer.get_feature_names()])\n",
      "review_score = dtm * np.atleast_2d(word_score).T\n",
      "\n",
      "dtm_row_sum = csr_matrix.sum(dtm, 1)\n",
      "review_score = review_score / dtm_row_sum\n",
      "\n",
      "review_score[dtm_row_sum == 0] = np.nan\n",
      "print 'the number of reviews with NA scores:', sum(pd.isnull(review_score))[0, 0]"
     ],
     "language": "python",
     "metadata": {},
     "outputs": [
      {
       "output_type": "stream",
       "stream": "stdout",
       "text": [
        "the number of reviews with NA scores: "
       ]
      },
      {
       "output_type": "stream",
       "stream": "stdout",
       "text": [
        "43\n"
       ]
      }
     ],
     "prompt_number": 6
    },
    {
     "cell_type": "markdown",
     "metadata": {},
     "source": [
      "As before, let's take a peak at the most favorable and the most negative reviews found by the model (for the purpose of prediction, the actual star ratings are hidden):"
     ]
    },
    {
     "cell_type": "code",
     "collapsed": false,
     "input": [
      "# check out the most favorable reviews\n",
      "reviews_test['score'] = review_score\n",
      "reviews_test_excl_na = reviews_test.dropna(subset = ['score']).sort(columns = 'score', ascending = False)\n",
      "for i in xrange(10):\n",
      "    print 'business id:', reviews_test_excl_na.iloc[i]['business_id']\n",
      "    print 'scores:', reviews_test_excl_na.iloc[i]['score']\n",
      "    print 'review:', reviews_test_excl_na.iloc[i]['text'], '\\n'\n",
      "    print '***************************************************************************************************\\n'"
     ],
     "language": "python",
     "metadata": {},
     "outputs": [
      {
       "output_type": "stream",
       "stream": "stdout",
       "text": [
        "business id: MNop9uxBB4gVhPhHmksMkw\n",
        "scores: 0.743782722513\n",
        "review: i'm addicted \n",
        "\n",
        "***************************************************************************************************\n",
        "\n",
        "business id: qLa_684GMvVfR4WNHshQSA\n",
        "scores: 0.722698072805\n",
        "review: Awsome \n",
        "\n",
        "***************************************************************************************************\n",
        "\n",
        "business id: Y_Y91oeUrIwYa18F8ey5NQ\n",
        "scores: 0.719851726283\n",
        "review: amazing \n",
        "\n",
        "***************************************************************************************************\n",
        "\n",
        "business id: Lp-A-JNRUUH72uou5-pMtQ\n",
        "scores: 0.719851726283\n",
        "review: amazing Jumbalaya \n",
        "\n",
        "***************************************************************************************************\n",
        "\n",
        "business id: O-Xa9GCFWI65YiBD5Jw_hA\n",
        "scores: 0.719851726283\n",
        "review: amazing \n",
        "\n",
        "***************************************************************************************************\n",
        "\n",
        "business id: 9Bnc9YP0n5cR57xkP6fQmQ\n",
        "scores: 0.719851726283\n",
        "review: amazing \n",
        "\n",
        "***************************************************************************************************\n",
        "\n",
        "business id: BNTw6sX6fDWe-pmyY1FeDA\n",
        "scores: 0.719851726283\n",
        "review: Amazing. \n",
        "\n",
        "***************************************************************************************************\n",
        "\n",
        "business id: PmPOuRvuN3CoNOi1nBj_TQ\n",
        "scores: 0.719851726283\n",
        "review: Amazing \n",
        "\n",
        "***************************************************************************************************\n",
        "\n",
        "business id: xNcqwYAUeVOhe3KNC4Xjaw\n",
        "scores: 0.719847328244\n",
        "review: \u4e8c\u4eba\u3067\u591c10\u6642\u3054\u308dRAKU\u3078\u306f\u3058\u3081\u3066\u884c\u304d\u307e\u3057\u305f\u3002\u5e97\u306e\u96f0\u56f2\u6c17\u306f\u3068\u3066\u3082\u826f\u304b\u3063\u305f\u3067\u3059\u304c\u30aa\u30fc\u30c0\u30fc\u3057\u305f\u7269\u304c\u51fa\u3066\u304f\u308b\u306e\u304c\u9045\u304f\u3066\u697d\u3057\u3081\u307e\u305b\u3093\u3067\u3057\u305f\u3002\u30d3\u30fc\u30eb\u3092\u98f2\u307f\u5e72\u3057\u3066\u3082\u6700\u521d\u306e\u4e00\u54c1\u304c\u51fa\u3066\u3053\u305a\u7d0425\u5206\u307b\u3069\u3057\u3066\u30ec\u30d0\u30fc\u523a\u3057\u304c\u51fa\u3066\u304d\u3066\u305d\u306e\u5f8c15\u5206\u3067\u9b8e\u306e\u5869\u713c\u304d(\u713c\u304d\u304c\u3042\u307e\u3044)\u304c\u51fa\u306610\u5206\u5f8c\u306b\u713c\u304d\u7269\u304c\u4e00\u76bf\u305a\u3064\u51fa\u3066\u30e9\u30e0\u713c\u304d\u306f70%\u304c\u30d5\u30a1\u30c3\u30c8\u3067(\u30e9\u30e0\u3067\u306f\u306a\u304f\u30de\u30c8\u30f3\u3060\u3068\u601d\u3046)\u30a6\u30a8\u30fc\u30c8\u30ec\u30b9\u306b\u30d5\u30a1\u30c3\u30c8\u304c\u304a\u304a\u3044\u3068\u3044\u3046\u3068\u3053\u306e\u30e9\u30e0\u306f\u305d\u3046\u3044\u3046\u7269\u3060\u3068\u8a00\u308f\u308c\u5869\u3068\u9ed2\u80e1\u6912\u304c\u6b32\u3057\u3044\u3068\u3044\u3046\u3068\u5e97\u306b\u306f\u306a\u3044\u3068\u8a00\u308f\u308c\u305f\u3002\u713c\u304d\u7269\u306f\u3001\u30d6\u30bf\u3001\u30c0\u30c3\u30af\u3001\u30e9\u30e0(\u30de\u30c8\u30f3) \u5168\u90e8\u540c\u3058\u30bf\u30ec\u3092\u4f7f\u3063\u3066\u3044\u308b\u3088\u3046\u3060.\n",
        "\u4e45\u3057\u3076\u308a\u306b\u304c\u3063\u304b\u308a\u3057\u305f\u98df\u4e8b\u3067\u3057\u305f\u3002 \n",
        "\n",
        "***************************************************************************************************\n",
        "\n",
        "business id: 8hnjKa0-bQtvbESv51LoFQ\n",
        "scores: 0.719543147208\n",
        "review: orgasmic \n",
        "\n",
        "***************************************************************************************************\n",
        "\n"
       ]
      }
     ],
     "prompt_number": 7
    },
    {
     "cell_type": "code",
     "collapsed": false,
     "input": [
      "# and the least favorable ones\n",
      "base_ind = len(reviews_test_excl_na) - 1\n",
      "for i in xrange(10):\n",
      "    print 'business id:', reviews_test_excl_na.iloc[base_ind - i]['business_id']\n",
      "    print 'scores:', reviews_test_excl_na.iloc[base_ind - i]['score']\n",
      "    print 'reviews:', reviews_test_excl_na.iloc[base_ind - i]['text'], '\\n'\n",
      "    print '***************************************************************************************************\\n'"
     ],
     "language": "python",
     "metadata": {},
     "outputs": [
      {
       "output_type": "stream",
       "stream": "stdout",
       "text": [
        "business id: jG3R4dejS9aF8MHGbE8ucQ\n",
        "scores: -0.59792746114\n",
        "reviews: Disgusting. \n",
        "\n",
        "***************************************************************************************************\n",
        "\n",
        "business id: bGj9djLAHjNR55OXsIDrAg\n",
        "scores: -0.571179039301\n",
        "reviews: Horrible. \n",
        "\n",
        "***************************************************************************************************\n",
        "\n",
        "business id: j2KCZNlWnu-L4j0yJ3zAHA\n",
        "scores: -0.483659478168\n",
        "reviews: terrible \n",
        "\n",
        "***************************************************************************************************\n",
        "\n",
        "business id: vz2zQQSjy-NnnKLZzjjoxA\n",
        "scores: -0.41103202847\n",
        "reviews: Yuck. \n",
        "\n",
        "***************************************************************************************************\n",
        "\n",
        "business id: bZivzFTkkjNtUBSuMhoCtg\n",
        "scores: -0.338000893788\n",
        "reviews: Gross \n",
        "\n",
        "***************************************************************************************************\n",
        "\n",
        "business id: GaXv0r-xk8hO4QvDoscEUQ\n",
        "scores: -0.305678918792\n",
        "reviews: horrible. Just horrible \n",
        "\n",
        "***************************************************************************************************\n",
        "\n",
        "business id: HYlsU8xPeLQubVoi2ceqEQ\n",
        "scores: -0.30303030303\n",
        "reviews: Deleted \n",
        "\n",
        "***************************************************************************************************\n",
        "\n",
        "business id: WBmbKC81XYCUCgMGfLLjwA\n",
        "scores: -0.296694544006\n",
        "reviews: RIP \n",
        "\n",
        "***************************************************************************************************\n",
        "\n",
        "business id: NCTd71BBS6cxgr97P0mUVQ\n",
        "scores: -0.292895816051\n",
        "reviews: Very rude, unprofessional, \n",
        "\n",
        "***************************************************************************************************\n",
        "\n",
        "business id: qevoC1jHifFFWFfJWUNyfQ\n",
        "scores: -0.273557864565\n",
        "reviews: Trash.................. \n",
        "\n",
        "***************************************************************************************************\n",
        "\n"
       ]
      }
     ],
     "prompt_number": 8
    },
    {
     "cell_type": "markdown",
     "metadata": {},
     "source": [
      "It looks like the word scores calculated using the training reviews are applicable to the test reviews as well. One interesting abnomaly I see is the 9th most favorable review which was written in Japanese except the name of the restaurant \"Raku.\" In fact, it is actually a one-star review and the reason its sentiment score is among the highest is because the restaurant received primarily high ratings in the training data. Tragic."
     ]
    },
    {
     "cell_type": "code",
     "collapsed": false,
     "input": [
      "pd.to_pickle(reviews_test, 'reviews_test.pkl')"
     ],
     "language": "python",
     "metadata": {},
     "outputs": [],
     "prompt_number": 9
    },
    {
     "cell_type": "heading",
     "level": 2,
     "metadata": {},
     "source": [
      "4.2 Applying the trained model"
     ]
    },
    {
     "cell_type": "code",
     "collapsed": false,
     "input": [
      "gbm_clf = externals.joblib.load('gbm_clf.pkl')"
     ],
     "language": "python",
     "metadata": {},
     "outputs": [],
     "prompt_number": 10
    },
    {
     "cell_type": "code",
     "collapsed": false,
     "input": [
      "score = reviews_test_excl_na['score']\n",
      "score = np.atleast_2d(score).T\n",
      "stars = reviews_test_excl_na['stars']"
     ],
     "language": "python",
     "metadata": {},
     "outputs": [],
     "prompt_number": 11
    },
    {
     "cell_type": "code",
     "collapsed": false,
     "input": [
      "stars_pred = gbm_clf.predict(score)\n",
      "\n",
      "print 'the mean absolute error:', metrics.mean_absolute_error(stars, stars_pred)\n",
      "print 'the accuracy score:', metrics.accuracy_score(stars, stars_pred)"
     ],
     "language": "python",
     "metadata": {},
     "outputs": [
      {
       "output_type": "stream",
       "stream": "stdout",
       "text": [
        "the mean absolute error: 0.664502619662\n",
        "the accuracy score: 0.475886968034\n"
       ]
      }
     ],
     "prompt_number": 12
    },
    {
     "cell_type": "markdown",
     "metadata": {},
     "source": [
      "The resulting MAE, 0.665, is only slightly higher than the cross-validation result, 0.662, indicating there's not much surprise in the test data. However, the accuracy score looks quite disappointing but given that there are five classes, it is at least better than random guessing!"
     ]
    },
    {
     "cell_type": "heading",
     "level": 2,
     "metadata": {},
     "source": [
      "4.3 But wait... what about the reviews with the NA scores?"
     ]
    },
    {
     "cell_type": "markdown",
     "metadata": {},
     "source": [
      "We are not done yet! There are still 43 reviews with NA scores due to the use of infrequent words. For those, without better information, I'm just going to predict their ratings using the industry medians that are extracted from the training set at the end of step 2."
     ]
    },
    {
     "cell_type": "code",
     "collapsed": false,
     "input": [
      "# for the reviews with NA scores, use industry median ratings\n",
      "stars_by_cat = pd.read_pickle('stars_by_cat.pkl')"
     ],
     "language": "python",
     "metadata": {},
     "outputs": [],
     "prompt_number": 13
    },
    {
     "cell_type": "code",
     "collapsed": false,
     "input": [
      "reviews_test_na = reviews_test[pd.isnull(reviews_test['score'])]\n",
      "stars_na = reviews_test_na['stars']\n",
      "stars_na_pred = [stars_by_cat[category] for category in reviews_test_na['category']]\n",
      "\n",
      "# combine\n",
      "stars_all = list(stars) + list(stars_na)\n",
      "stars_pred_all = list(stars_pred) + stars_na_pred"
     ],
     "language": "python",
     "metadata": {},
     "outputs": [],
     "prompt_number": 14
    },
    {
     "cell_type": "code",
     "collapsed": false,
     "input": [
      "print 'the real mean absolute error:', metrics.mean_absolute_error(stars_all, stars_pred_all)\n",
      "print 'the real accuracy score:', metrics.accuracy_score(stars_all, stars_pred_all)"
     ],
     "language": "python",
     "metadata": {},
     "outputs": [
      {
       "output_type": "stream",
       "stream": "stdout",
       "text": [
        "the real mean absolute error: "
       ]
      },
      {
       "output_type": "stream",
       "stream": "stdout",
       "text": [
        "0.664604568795\n",
        "the real accuracy score: "
       ]
      },
      {
       "output_type": "stream",
       "stream": "stdout",
       "text": [
        "0.47584709875\n"
       ]
      }
     ],
     "prompt_number": 15
    },
    {
     "cell_type": "markdown",
     "metadata": {},
     "source": [
      "Phew, the metrics didn't change much."
     ]
    },
    {
     "cell_type": "heading",
     "level": 2,
     "metadata": {},
     "source": [
      "4.4 Taking a look at the confusion matrix"
     ]
    },
    {
     "cell_type": "markdown",
     "metadata": {},
     "source": [
      "Before calling it a day, let's take a closer look at how the model performs on a per-star basis:"
     ]
    },
    {
     "cell_type": "code",
     "collapsed": false,
     "input": [
      "confusion_matrix = metrics.confusion_matrix(stars_all, stars_pred_all)\n",
      "print confusion_matrix"
     ],
     "language": "python",
     "metadata": {},
     "outputs": [
      {
       "output_type": "stream",
       "stream": "stdout",
       "text": [
        "[[22701  4669  3722  1892   257]\n",
        " [10235  5770  7951  6254   619]\n",
        " [ 4798  4752 10777 21807  7004]\n",
        " [ 1766  2508  8258 42229 47889]\n",
        " [ 1491  1883  5578 33664 79208]]\n"
       ]
      }
     ],
     "prompt_number": 16
    },
    {
     "cell_type": "code",
     "collapsed": false,
     "input": [
      "sns.heatmap(confusion_matrix, xticklabels = [1, 2, 3, 4, 5], yticklabels = [1, 2, 3, 4, 5])\n",
      "plt.ylabel('True rating')\n",
      "plt.xlabel('Predicted rating')"
     ],
     "language": "python",
     "metadata": {},
     "outputs": [
      {
       "metadata": {},
       "output_type": "pyout",
       "prompt_number": 17,
       "text": [
        "<matplotlib.text.Text at 0x19ad74bd0>"
       ]
      },
      {
       "metadata": {},
       "output_type": "display_data",
       "png": "[encoded data removed]",
       "text": [
        "<matplotlib.figure.Figure at 0x1a1a97f90>"
       ]
      }
     ],
     "prompt_number": 17
    },
    {
     "cell_type": "markdown",
     "metadata": {},
     "source": [
      "As expected, the model had the most trouble predicting the ratings in the middle range. Hence, an aggregation of nearby ratings may produce a better result, but that's defeating the original purpose."
     ]
    },
    {
     "cell_type": "heading",
     "level": 2,
     "metadata": {},
     "source": [
      "4.5 Future work..."
     ]
    },
    {
     "cell_type": "markdown",
     "metadata": {},
     "source": [
      "More potential factors to consider in predicting the star ratings:\n",
      "1. Explore ways to improve word sentiment estimates (preliminary analysis in upsampling did not yeild satisfactory results).\n",
      "1. The check-in behaviors (from another dataset).\n",
      "2. The reviewers' reviewing and rating history. Although a quick look reveals that many of the reviewers have only reviewed once, hence, it doesn't make sense to use this one-time rating itself to predict it again.\n",
      "3. Although visually not very useful, it may be worth adding the industry dummies to control for inter-industry differences."
     ]
    },
    {
     "cell_type": "code",
     "collapsed": false,
     "input": [],
     "language": "python",
     "metadata": {},
     "outputs": [],
     "prompt_number": 17
    }
   ],
   "metadata": {}
  }
 ]
}