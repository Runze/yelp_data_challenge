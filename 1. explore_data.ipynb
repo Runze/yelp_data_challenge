{
 "metadata": {
  "name": "",
  "signature": "sha256:d23041532b3d4b7e8d4f2ffe3ee606fe3c4a5f0833512eaa1e3af2a656c9cdd5"
 },
 "nbformat": 3,
 "nbformat_minor": 0,
 "worksheets": [
  {
   "cells": [
    {
     "cell_type": "heading",
     "level": 1,
     "metadata": {},
     "source": [
      "1. Exploratory analysis"
     ]
    },
    {
     "cell_type": "markdown",
     "metadata": {},
     "source": [
      "In this step, before looking at any actual reviews, I'm going to do some preliminary analysis on the distribution of the reviews and stars across different years and different industries, and to get familiar with the datasets."
     ]
    },
    {
     "cell_type": "code",
     "collapsed": false,
     "input": [
      "import json\n",
      "import pandas as pd\n",
      "from pandas import DataFrame\n",
      "import numpy as np\n",
      "import matplotlib.pyplot as plt\n",
      "import seaborn as sns\n",
      "import re\n",
      "%matplotlib inline\n",
      "%cd /Users/Runze/Google Drive/Yelp/yelp_dataset_challenge_academic_dataset"
     ],
     "language": "python",
     "metadata": {},
     "outputs": [
      {
       "output_type": "stream",
       "stream": "stdout",
       "text": [
        "/Users/Runze/Google Drive/Yelp/yelp_dataset_challenge_academic_dataset\n"
       ]
      }
     ],
     "prompt_number": 1
    },
    {
     "cell_type": "heading",
     "level": 2,
     "metadata": {},
     "source": [
      "1.1 The reviews dataset"
     ]
    },
    {
     "cell_type": "markdown",
     "metadata": {},
     "source": [
      "This is the dataset that includes the actual text reviews and the star ratings and is hence the main focus for the subsequent analysis."
     ]
    },
    {
     "cell_type": "code",
     "collapsed": false,
     "input": [
      "reviews = [json.loads(line) for line in open('yelp_academic_dataset_review.json')]\n",
      "len(reviews)"
     ],
     "language": "python",
     "metadata": {},
     "outputs": [
      {
       "metadata": {},
       "output_type": "pyout",
       "prompt_number": 4,
       "text": [
        "1125458"
       ]
      }
     ],
     "prompt_number": 4
    },
    {
     "cell_type": "code",
     "collapsed": false,
     "input": [
      "# convert to pandas data frame\n",
      "reviews = DataFrame(reviews)\n",
      "reviews.shape"
     ],
     "language": "python",
     "metadata": {},
     "outputs": [
      {
       "metadata": {},
       "output_type": "pyout",
       "prompt_number": 5,
       "text": [
        "(1125458, 8)"
       ]
      }
     ],
     "prompt_number": 5
    },
    {
     "cell_type": "code",
     "collapsed": false,
     "input": [
      "# take a peak\n",
      "reviews.head()"
     ],
     "language": "python",
     "metadata": {},
     "outputs": [
      {
       "html": [
        "<div style=\"max-height:1000px;max-width:1500px;overflow:auto;\">\n",
        "<table border=\"1\" class=\"dataframe\">\n",
        "  <thead>\n",
        "    <tr style=\"text-align: right;\">\n",
        "      <th></th>\n",
        "      <th>business_id</th>\n",
        "      <th>date</th>\n",
        "      <th>review_id</th>\n",
        "      <th>stars</th>\n",
        "      <th>text</th>\n",
        "      <th>type</th>\n",
        "      <th>user_id</th>\n",
        "      <th>votes</th>\n",
        "    </tr>\n",
        "  </thead>\n",
        "  <tbody>\n",
        "    <tr>\n",
        "      <th>0</th>\n",
        "      <td> vcNAWiLM4dR7D2nwwJ7nCA</td>\n",
        "      <td> 2007-05-17</td>\n",
        "      <td> 15SdjuK7DmYqUAj6rjGowg</td>\n",
        "      <td> 5</td>\n",
        "      <td> dr. goldberg offers everything i look for in a...</td>\n",
        "      <td> review</td>\n",
        "      <td> Xqd0DzHaiyRqVH3WRG7hzg</td>\n",
        "      <td> {u'funny': 0, u'useful': 2, u'cool': 1}</td>\n",
        "    </tr>\n",
        "    <tr>\n",
        "      <th>1</th>\n",
        "      <td> vcNAWiLM4dR7D2nwwJ7nCA</td>\n",
        "      <td> 2010-03-22</td>\n",
        "      <td> RF6UnRTtG7tWMcrO2GEoAg</td>\n",
        "      <td> 2</td>\n",
        "      <td> Unfortunately, the frustration of being Dr. Go...</td>\n",
        "      <td> review</td>\n",
        "      <td> H1kH6QZV7Le4zqTRNxoZow</td>\n",
        "      <td> {u'funny': 0, u'useful': 2, u'cool': 0}</td>\n",
        "    </tr>\n",
        "    <tr>\n",
        "      <th>2</th>\n",
        "      <td> vcNAWiLM4dR7D2nwwJ7nCA</td>\n",
        "      <td> 2012-02-14</td>\n",
        "      <td> -TsVN230RCkLYKBeLsuz7A</td>\n",
        "      <td> 4</td>\n",
        "      <td> Dr. Goldberg has been my doctor for years and ...</td>\n",
        "      <td> review</td>\n",
        "      <td> zvJCcrpm2yOZrxKffwGQLA</td>\n",
        "      <td> {u'funny': 0, u'useful': 1, u'cool': 1}</td>\n",
        "    </tr>\n",
        "    <tr>\n",
        "      <th>3</th>\n",
        "      <td> vcNAWiLM4dR7D2nwwJ7nCA</td>\n",
        "      <td> 2012-03-02</td>\n",
        "      <td> dNocEAyUucjT371NNND41Q</td>\n",
        "      <td> 4</td>\n",
        "      <td> Been going to Dr. Goldberg for over 10 years. ...</td>\n",
        "      <td> review</td>\n",
        "      <td> KBLW4wJA_fwoWmMhiHRVOA</td>\n",
        "      <td> {u'funny': 0, u'useful': 0, u'cool': 0}</td>\n",
        "    </tr>\n",
        "    <tr>\n",
        "      <th>4</th>\n",
        "      <td> vcNAWiLM4dR7D2nwwJ7nCA</td>\n",
        "      <td> 2012-05-15</td>\n",
        "      <td> ebcN2aqmNUuYNoyvQErgnA</td>\n",
        "      <td> 4</td>\n",
        "      <td> Got a letter in the mail last week that said D...</td>\n",
        "      <td> review</td>\n",
        "      <td> zvJCcrpm2yOZrxKffwGQLA</td>\n",
        "      <td> {u'funny': 0, u'useful': 2, u'cool': 1}</td>\n",
        "    </tr>\n",
        "  </tbody>\n",
        "</table>\n",
        "</div>"
       ],
       "metadata": {},
       "output_type": "pyout",
       "prompt_number": 6,
       "text": [
        "              business_id        date               review_id  stars  \\\n",
        "0  vcNAWiLM4dR7D2nwwJ7nCA  2007-05-17  15SdjuK7DmYqUAj6rjGowg      5   \n",
        "1  vcNAWiLM4dR7D2nwwJ7nCA  2010-03-22  RF6UnRTtG7tWMcrO2GEoAg      2   \n",
        "2  vcNAWiLM4dR7D2nwwJ7nCA  2012-02-14  -TsVN230RCkLYKBeLsuz7A      4   \n",
        "3  vcNAWiLM4dR7D2nwwJ7nCA  2012-03-02  dNocEAyUucjT371NNND41Q      4   \n",
        "4  vcNAWiLM4dR7D2nwwJ7nCA  2012-05-15  ebcN2aqmNUuYNoyvQErgnA      4   \n",
        "\n",
        "                                                text    type  \\\n",
        "0  dr. goldberg offers everything i look for in a...  review   \n",
        "1  Unfortunately, the frustration of being Dr. Go...  review   \n",
        "2  Dr. Goldberg has been my doctor for years and ...  review   \n",
        "3  Been going to Dr. Goldberg for over 10 years. ...  review   \n",
        "4  Got a letter in the mail last week that said D...  review   \n",
        "\n",
        "                  user_id                                    votes  \n",
        "0  Xqd0DzHaiyRqVH3WRG7hzg  {u'funny': 0, u'useful': 2, u'cool': 1}  \n",
        "1  H1kH6QZV7Le4zqTRNxoZow  {u'funny': 0, u'useful': 2, u'cool': 0}  \n",
        "2  zvJCcrpm2yOZrxKffwGQLA  {u'funny': 0, u'useful': 1, u'cool': 1}  \n",
        "3  KBLW4wJA_fwoWmMhiHRVOA  {u'funny': 0, u'useful': 0, u'cool': 0}  \n",
        "4  zvJCcrpm2yOZrxKffwGQLA  {u'funny': 0, u'useful': 2, u'cool': 1}  "
       ]
      }
     ],
     "prompt_number": 6
    },
    {
     "cell_type": "code",
     "collapsed": false,
     "input": [
      "# analyze distribution of the stars\n",
      "reviews['stars'].hist()"
     ],
     "language": "python",
     "metadata": {},
     "outputs": [
      {
       "metadata": {},
       "output_type": "pyout",
       "prompt_number": 7,
       "text": [
        "<matplotlib.axes._subplots.AxesSubplot at 0x245c5bd10>"
       ]
      },
      {
       "metadata": {},
       "output_type": "display_data",
       "png": "[encoded data removed]",
       "text": [
        "<matplotlib.figure.Figure at 0x245c5b850>"
       ]
      }
     ],
     "prompt_number": 7
    },
    {
     "cell_type": "markdown",
     "metadata": {},
     "source": [
      "Good. Looks like most people are nice after all :-)"
     ]
    },
    {
     "cell_type": "code",
     "collapsed": false,
     "input": [
      "# analyze the number of reviews and ratings per year\n",
      "reviews['date'] = pd.to_datetime(reviews['date'])\n",
      "reviews['year'] = [d.year for d in reviews['date']]\n",
      "\n",
      "fig, axs = plt.subplots(1, 2)\n",
      "reviews['year'].hist(ax = axs[0], figsize = (16, 4))\n",
      "sns.boxplot(reviews['stars'], reviews['year'], ax = axs[1])"
     ],
     "language": "python",
     "metadata": {},
     "outputs": [
      {
       "metadata": {},
       "output_type": "pyout",
       "prompt_number": 8,
       "text": [
        "<matplotlib.axes._subplots.AxesSubplot at 0x244788650>"
       ]
      },
      {
       "metadata": {},
       "output_type": "display_data",
       "png": "[encoded data removed]",
       "text": [
        "<matplotlib.figure.Figure at 0x1040aab10>"
       ]
      }
     ],
     "prompt_number": 8
    },
    {
     "cell_type": "markdown",
     "metadata": {},
     "source": [
      "Looks like the dataset consists of mostly recent reviews, and the star distributions do not vary much over the years."
     ]
    },
    {
     "cell_type": "heading",
     "level": 2,
     "metadata": {},
     "source": [
      "1.2 The business dataset"
     ]
    },
    {
     "cell_type": "markdown",
     "metadata": {},
     "source": [
      "This dataset includes the descriptions on the business for which the reviews were written. The information I'm most interested in is the industry classification as, when combined with the reviews set, it will show the review and rating patterns across different business segments and may shed some light on how people experience them."
     ]
    },
    {
     "cell_type": "code",
     "collapsed": false,
     "input": [
      "business = [json.loads(line) for line in open('yelp_academic_dataset_business.json')]\n",
      "len(business)"
     ],
     "language": "python",
     "metadata": {},
     "outputs": [
      {
       "metadata": {},
       "output_type": "pyout",
       "prompt_number": 9,
       "text": [
        "42153"
       ]
      }
     ],
     "prompt_number": 9
    },
    {
     "cell_type": "code",
     "collapsed": false,
     "input": [
      "business = DataFrame(business)\n",
      "business = business.set_index(business['business_id'])\n",
      "business = business.drop('business_id', 1)\n",
      "business.head()"
     ],
     "language": "python",
     "metadata": {},
     "outputs": [
      {
       "html": [
        "<div style=\"max-height:1000px;max-width:1500px;overflow:auto;\">\n",
        "<table border=\"1\" class=\"dataframe\">\n",
        "  <thead>\n",
        "    <tr style=\"text-align: right;\">\n",
        "      <th></th>\n",
        "      <th>attributes</th>\n",
        "      <th>categories</th>\n",
        "      <th>city</th>\n",
        "      <th>full_address</th>\n",
        "      <th>hours</th>\n",
        "      <th>latitude</th>\n",
        "      <th>longitude</th>\n",
        "      <th>name</th>\n",
        "      <th>neighborhoods</th>\n",
        "      <th>open</th>\n",
        "      <th>review_count</th>\n",
        "      <th>stars</th>\n",
        "      <th>state</th>\n",
        "      <th>type</th>\n",
        "    </tr>\n",
        "    <tr>\n",
        "      <th>business_id</th>\n",
        "      <th></th>\n",
        "      <th></th>\n",
        "      <th></th>\n",
        "      <th></th>\n",
        "      <th></th>\n",
        "      <th></th>\n",
        "      <th></th>\n",
        "      <th></th>\n",
        "      <th></th>\n",
        "      <th></th>\n",
        "      <th></th>\n",
        "      <th></th>\n",
        "      <th></th>\n",
        "      <th></th>\n",
        "    </tr>\n",
        "  </thead>\n",
        "  <tbody>\n",
        "    <tr>\n",
        "      <th>vcNAWiLM4dR7D2nwwJ7nCA</th>\n",
        "      <td>                    {u'By Appointment Only': True}</td>\n",
        "      <td>                       [Doctors, Health &amp; Medical]</td>\n",
        "      <td>   Phoenix</td>\n",
        "      <td> 4840 E Indian School Rd\\nSte 101\\nPhoenix, AZ ...</td>\n",
        "      <td> {u'Thursday': {u'close': u'17:00', u'open': u'...</td>\n",
        "      <td> 33.499313</td>\n",
        "      <td>-111.983758</td>\n",
        "      <td>           Eric Goldberg, MD</td>\n",
        "      <td> []</td>\n",
        "      <td> True</td>\n",
        "      <td>  7</td>\n",
        "      <td> 3.5</td>\n",
        "      <td> AZ</td>\n",
        "      <td> business</td>\n",
        "    </tr>\n",
        "    <tr>\n",
        "      <th>JwUE5GmEO-sH1FuwJgKBlQ</th>\n",
        "      <td> {u'Take-out': True, u'Price Range': 1, u'Outdo...</td>\n",
        "      <td>                                     [Restaurants]</td>\n",
        "      <td> De Forest</td>\n",
        "      <td>           6162 US Highway 51\\nDe Forest, WI 53532</td>\n",
        "      <td>                                                {}</td>\n",
        "      <td> 43.238893</td>\n",
        "      <td> -89.335844</td>\n",
        "      <td>        Pine Cone Restaurant</td>\n",
        "      <td> []</td>\n",
        "      <td> True</td>\n",
        "      <td> 26</td>\n",
        "      <td> 4.0</td>\n",
        "      <td> WI</td>\n",
        "      <td> business</td>\n",
        "    </tr>\n",
        "    <tr>\n",
        "      <th>uGykseHzyS5xAMWoN6YUqA</th>\n",
        "      <td> {u'Take-out': True, u'Outdoor Seating': False,...</td>\n",
        "      <td>             [American (Traditional), Restaurants]</td>\n",
        "      <td> De Forest</td>\n",
        "      <td>               505 W North St\\nDe Forest, WI 53532</td>\n",
        "      <td> {u'Monday': {u'close': u'22:00', u'open': u'06...</td>\n",
        "      <td> 43.252267</td>\n",
        "      <td> -89.353437</td>\n",
        "      <td>  Deforest Family Restaurant</td>\n",
        "      <td> []</td>\n",
        "      <td> True</td>\n",
        "      <td> 16</td>\n",
        "      <td> 4.0</td>\n",
        "      <td> WI</td>\n",
        "      <td> business</td>\n",
        "    </tr>\n",
        "    <tr>\n",
        "      <th>LRKJF43s9-3jG9Lgx4zODg</th>\n",
        "      <td> {u'Take-out': True, u'Accepts Credit Cards': T...</td>\n",
        "      <td> [Food, Ice Cream &amp; Frozen Yogurt, Fast Food, R...</td>\n",
        "      <td> De Forest</td>\n",
        "      <td>             4910 County Rd V\\nDe Forest, WI 53532</td>\n",
        "      <td> {u'Monday': {u'close': u'22:00', u'open': u'10...</td>\n",
        "      <td> 43.251045</td>\n",
        "      <td> -89.374983</td>\n",
        "      <td>                    Culver's</td>\n",
        "      <td> []</td>\n",
        "      <td> True</td>\n",
        "      <td>  7</td>\n",
        "      <td> 4.5</td>\n",
        "      <td> WI</td>\n",
        "      <td> business</td>\n",
        "    </tr>\n",
        "    <tr>\n",
        "      <th>RgDg-k9S5YD_BaxMckifkg</th>\n",
        "      <td> {u'Take-out': True, u'Has TV': False, u'Outdoo...</td>\n",
        "      <td>                            [Chinese, Restaurants]</td>\n",
        "      <td> De Forest</td>\n",
        "      <td>                631 S Main St\\nDe Forest, WI 53532</td>\n",
        "      <td> {u'Monday': {u'close': u'22:00', u'open': u'11...</td>\n",
        "      <td> 43.240875</td>\n",
        "      <td> -89.343722</td>\n",
        "      <td> Chang Jiang Chinese Kitchen</td>\n",
        "      <td> []</td>\n",
        "      <td> True</td>\n",
        "      <td>  3</td>\n",
        "      <td> 4.0</td>\n",
        "      <td> WI</td>\n",
        "      <td> business</td>\n",
        "    </tr>\n",
        "  </tbody>\n",
        "</table>\n",
        "</div>"
       ],
       "metadata": {},
       "output_type": "pyout",
       "prompt_number": 10,
       "text": [
        "                                                               attributes  \\\n",
        "business_id                                                                 \n",
        "vcNAWiLM4dR7D2nwwJ7nCA                     {u'By Appointment Only': True}   \n",
        "JwUE5GmEO-sH1FuwJgKBlQ  {u'Take-out': True, u'Price Range': 1, u'Outdo...   \n",
        "uGykseHzyS5xAMWoN6YUqA  {u'Take-out': True, u'Outdoor Seating': False,...   \n",
        "LRKJF43s9-3jG9Lgx4zODg  {u'Take-out': True, u'Accepts Credit Cards': T...   \n",
        "RgDg-k9S5YD_BaxMckifkg  {u'Take-out': True, u'Has TV': False, u'Outdoo...   \n",
        "\n",
        "                                                               categories  \\\n",
        "business_id                                                                 \n",
        "vcNAWiLM4dR7D2nwwJ7nCA                        [Doctors, Health & Medical]   \n",
        "JwUE5GmEO-sH1FuwJgKBlQ                                      [Restaurants]   \n",
        "uGykseHzyS5xAMWoN6YUqA              [American (Traditional), Restaurants]   \n",
        "LRKJF43s9-3jG9Lgx4zODg  [Food, Ice Cream & Frozen Yogurt, Fast Food, R...   \n",
        "RgDg-k9S5YD_BaxMckifkg                             [Chinese, Restaurants]   \n",
        "\n",
        "                             city  \\\n",
        "business_id                         \n",
        "vcNAWiLM4dR7D2nwwJ7nCA    Phoenix   \n",
        "JwUE5GmEO-sH1FuwJgKBlQ  De Forest   \n",
        "uGykseHzyS5xAMWoN6YUqA  De Forest   \n",
        "LRKJF43s9-3jG9Lgx4zODg  De Forest   \n",
        "RgDg-k9S5YD_BaxMckifkg  De Forest   \n",
        "\n",
        "                                                             full_address  \\\n",
        "business_id                                                                 \n",
        "vcNAWiLM4dR7D2nwwJ7nCA  4840 E Indian School Rd\\nSte 101\\nPhoenix, AZ ...   \n",
        "JwUE5GmEO-sH1FuwJgKBlQ            6162 US Highway 51\\nDe Forest, WI 53532   \n",
        "uGykseHzyS5xAMWoN6YUqA                505 W North St\\nDe Forest, WI 53532   \n",
        "LRKJF43s9-3jG9Lgx4zODg              4910 County Rd V\\nDe Forest, WI 53532   \n",
        "RgDg-k9S5YD_BaxMckifkg                 631 S Main St\\nDe Forest, WI 53532   \n",
        "\n",
        "                                                                    hours  \\\n",
        "business_id                                                                 \n",
        "vcNAWiLM4dR7D2nwwJ7nCA  {u'Thursday': {u'close': u'17:00', u'open': u'...   \n",
        "JwUE5GmEO-sH1FuwJgKBlQ                                                 {}   \n",
        "uGykseHzyS5xAMWoN6YUqA  {u'Monday': {u'close': u'22:00', u'open': u'06...   \n",
        "LRKJF43s9-3jG9Lgx4zODg  {u'Monday': {u'close': u'22:00', u'open': u'10...   \n",
        "RgDg-k9S5YD_BaxMckifkg  {u'Monday': {u'close': u'22:00', u'open': u'11...   \n",
        "\n",
        "                         latitude   longitude                         name  \\\n",
        "business_id                                                                  \n",
        "vcNAWiLM4dR7D2nwwJ7nCA  33.499313 -111.983758            Eric Goldberg, MD   \n",
        "JwUE5GmEO-sH1FuwJgKBlQ  43.238893  -89.335844         Pine Cone Restaurant   \n",
        "uGykseHzyS5xAMWoN6YUqA  43.252267  -89.353437   Deforest Family Restaurant   \n",
        "LRKJF43s9-3jG9Lgx4zODg  43.251045  -89.374983                     Culver's   \n",
        "RgDg-k9S5YD_BaxMckifkg  43.240875  -89.343722  Chang Jiang Chinese Kitchen   \n",
        "\n",
        "                       neighborhoods  open  review_count  stars state  \\\n",
        "business_id                                                             \n",
        "vcNAWiLM4dR7D2nwwJ7nCA            []  True             7    3.5    AZ   \n",
        "JwUE5GmEO-sH1FuwJgKBlQ            []  True            26    4.0    WI   \n",
        "uGykseHzyS5xAMWoN6YUqA            []  True            16    4.0    WI   \n",
        "LRKJF43s9-3jG9Lgx4zODg            []  True             7    4.5    WI   \n",
        "RgDg-k9S5YD_BaxMckifkg            []  True             3    4.0    WI   \n",
        "\n",
        "                            type  \n",
        "business_id                       \n",
        "vcNAWiLM4dR7D2nwwJ7nCA  business  \n",
        "JwUE5GmEO-sH1FuwJgKBlQ  business  \n",
        "uGykseHzyS5xAMWoN6YUqA  business  \n",
        "LRKJF43s9-3jG9Lgx4zODg  business  \n",
        "RgDg-k9S5YD_BaxMckifkg  business  "
       ]
      }
     ],
     "prompt_number": 10
    },
    {
     "cell_type": "markdown",
     "metadata": {},
     "source": [
      "Before combining with the reviews, first compare the Business IDs included in the two sets to make sure all the reviews can be traced back to an actual business listing."
     ]
    },
    {
     "cell_type": "code",
     "collapsed": false,
     "input": [
      "print 'the number of unique business_ids from the reviews dataset:', len(set(reviews['business_id']))\n",
      "print 'the number of unique business_ids from the business dataset:', len(business)"
     ],
     "language": "python",
     "metadata": {},
     "outputs": [
      {
       "output_type": "stream",
       "stream": "stdout",
       "text": [
        "the number of unique business_ids from the reviews dataset: "
       ]
      },
      {
       "output_type": "stream",
       "stream": "stdout",
       "text": [
        "41958\n",
        "the number of unique business_ids from the business dataset: 42153\n"
       ]
      }
     ],
     "prompt_number": 11
    },
    {
     "cell_type": "code",
     "collapsed": false,
     "input": [
      "# check for inclusiveness\n",
      "print 'the number of business_ids the two datasets have in common:', len(set(reviews['business_id']) & set(business.index))"
     ],
     "language": "python",
     "metadata": {},
     "outputs": [
      {
       "output_type": "stream",
       "stream": "stdout",
       "text": [
        "the number of business_ids the two datasets have in common: "
       ]
      },
      {
       "output_type": "stream",
       "stream": "stdout",
       "text": [
        "41958\n"
       ]
      }
     ],
     "prompt_number": 13
    },
    {
     "cell_type": "markdown",
     "metadata": {},
     "source": [
      "Good, it looks like the reviews set includes all the Business IDs from the business data.\n",
      "\n",
      "Next, check to see if there is any blank business categories:"
     ]
    },
    {
     "cell_type": "code",
     "collapsed": false,
     "input": [
      "category_len = [len(c) for c in business['categories']]\n",
      "print 'the number of blank business categories:', sum(np.array(category_len) == 0)"
     ],
     "language": "python",
     "metadata": {},
     "outputs": [
      {
       "output_type": "stream",
       "stream": "stdout",
       "text": [
        "the number of blank business categories: "
       ]
      },
      {
       "output_type": "stream",
       "stream": "stdout",
       "text": [
        "339\n"
       ]
      }
     ],
     "prompt_number": 14
    },
    {
     "cell_type": "markdown",
     "metadata": {},
     "source": [
      "Oh no... what are they? Are they in the reviews data?"
     ]
    },
    {
     "cell_type": "code",
     "collapsed": false,
     "input": [
      "bid_0 = business.index[np.array(category_len) == 0]\n",
      "print 'the number of \"blank\" business listings included in the reviews dataset:', len(set(bid_0) & set(reviews['business_id']))"
     ],
     "language": "python",
     "metadata": {},
     "outputs": [
      {
       "output_type": "stream",
       "stream": "stdout",
       "text": [
        "the number of \"blank\" business listings included in the reviews dataset: "
       ]
      },
      {
       "output_type": "stream",
       "stream": "stdout",
       "text": [
        "336\n"
       ]
      }
     ],
     "prompt_number": 15
    },
    {
     "cell_type": "markdown",
     "metadata": {},
     "source": [
      "Unfortunately yes. After a quick reviews, it looks like some of them have names or reviews that are descriptive enough to suggest their industries but some are more cryptic. However, given the small proportion (0.8%), I'm going to ignore them for now."
     ]
    },
    {
     "cell_type": "code",
     "collapsed": false,
     "input": [
      "business = business.drop(bid_0)\n",
      "reviews = reviews[[bid not in bid_0 for bid in reviews['business_id']]]"
     ],
     "language": "python",
     "metadata": {},
     "outputs": [],
     "prompt_number": 21
    },
    {
     "cell_type": "markdown",
     "metadata": {},
     "source": [
      "As shown above, each category is a Python list composed of multiple descriptions that are usually closely-related. For easy processing, let's try to combine them and derive some high-level categorization for each business listing."
     ]
    },
    {
     "cell_type": "code",
     "collapsed": false,
     "input": [
      "categories_all = sum(business['categories'], [])\n",
      "categories_all_count = pd.value_counts(categories_all)\n",
      "\n",
      "# take a look at the frequent categories\n",
      "categories_all_count[categories_all_count > 1000]"
     ],
     "language": "python",
     "metadata": {},
     "outputs": [
      {
       "metadata": {},
       "output_type": "pyout",
       "prompt_number": 24,
       "text": [
        "Restaurants                  14303\n",
        "Shopping                      6428\n",
        "Food                          5209\n",
        "Beauty & Spas                 3421\n",
        "Nightlife                     2870\n",
        "Bars                          2378\n",
        "Health & Medical              2351\n",
        "Automotive                    2241\n",
        "Home Services                 1957\n",
        "Fashion                       1897\n",
        "Active Life                   1814\n",
        "Mexican                       1749\n",
        "Event Planning & Services     1648\n",
        "American (Traditional)        1508\n",
        "Fast Food                     1488\n",
        "Local Services                1467\n",
        "Pizza                         1449\n",
        "Hotels & Travel               1438\n",
        "Arts & Entertainment          1371\n",
        "Sandwiches                    1336\n",
        "Coffee & Tea                  1198\n",
        "American (New)                1058\n",
        "Italian                       1008\n",
        "Chinese                       1002\n",
        "dtype: int64"
       ]
      }
     ],
     "prompt_number": 24
    },
    {
     "cell_type": "code",
     "collapsed": false,
     "input": [
      "# for each business listing, find the category description that is most common to all\n",
      "categories = business['categories']\n",
      "categories_count = [[categories_all_count[c] for c in category] for category in categories]\n",
      "\n",
      "most_common_ix = [np.argmax(counts) for counts in categories_count]\n",
      "most_common_categories = [categories[i][most_common_ix[i]] for i in xrange(len(categories))]\n",
      "\n",
      "# count again\n",
      "pd.value_counts(most_common_categories)"
     ],
     "language": "python",
     "metadata": {},
     "outputs": [
      {
       "metadata": {},
       "output_type": "pyout",
       "prompt_number": 25,
       "text": [
        "Restaurants                     14303\n",
        "Shopping                         6411\n",
        "Food                             3622\n",
        "Beauty & Spas                    2967\n",
        "Automotive                       2077\n",
        "Health & Medical                 2030\n",
        "Home Services                    1743\n",
        "Active Life                      1571\n",
        "Nightlife                        1507\n",
        "Event Planning & Services        1222\n",
        "Local Services                   1167\n",
        "Pets                              835\n",
        "Arts & Entertainment              638\n",
        "Hotels & Travel                   485\n",
        "Financial Services                285\n",
        "Public Services & Government      262\n",
        "Professional Services             229\n",
        "Education                         205\n",
        "Religious Organizations           107\n",
        "Local Flavor                       86\n",
        "Mass Media                         62\n",
        "dtype: int64"
       ]
      }
     ],
     "prompt_number": 25
    },
    {
     "cell_type": "code",
     "collapsed": false,
     "input": [
      "# better, but there's still categories that can be grouped together (based on subjective reviews)\n",
      "category_map = {'Food': 'Restaurants', 'Local Flavor': 'Arts & Entertainment', 'Mass Media': 'Arts & Entertainment'}\n",
      "most_common_categories = [category_map[category] if category in category_map else category\n",
      "                          for category in most_common_categories]"
     ],
     "language": "python",
     "metadata": {},
     "outputs": [],
     "prompt_number": 26
    },
    {
     "cell_type": "heading",
     "level": 2,
     "metadata": {},
     "source": [
      "1.3 Merge reviews with business categories"
     ]
    },
    {
     "cell_type": "markdown",
     "metadata": {},
     "source": [
      "Now we can finally combine reviews with the business categories."
     ]
    },
    {
     "cell_type": "code",
     "collapsed": false,
     "input": [
      "# put business id and category together\n",
      "id2category = dict(zip(business.index, most_common_categories))\n",
      "\n",
      "# add category to the reviews dataset\n",
      "reviews['category'] = [id2category[bid] for bid in reviews['business_id']]"
     ],
     "language": "python",
     "metadata": {},
     "outputs": [],
     "prompt_number": 27
    },
    {
     "cell_type": "markdown",
     "metadata": {},
     "source": [
      "With business information added, let's take a look at how reviews and ratings are distributed across different categories:"
     ]
    },
    {
     "cell_type": "code",
     "collapsed": false,
     "input": [
      "# analyze the number of reviews and ratings per category\n",
      "fig, axs = plt.subplots(1, 2)\n",
      "pd.value_counts(reviews['category']).plot(kind = 'bar', ax = axs[0], figsize = (16, 4))\n",
      "sns.boxplot(reviews['stars'], reviews['category'], order = pd.value_counts(reviews['category']).index, ax = axs[1])\n",
      "\n",
      "# rotate labels for the boxplot\n",
      "for tick in axs[1].xaxis.get_major_ticks():\n",
      "    tick.label.set_rotation('vertical')"
     ],
     "language": "python",
     "metadata": {},
     "outputs": [
      {
       "metadata": {},
       "output_type": "display_data",
       "png": "[encoded data removed]",
       "text": [
        "<matplotlib.figure.Figure at 0x24f934a10>"
       ]
      }
     ],
     "prompt_number": 28
    },
    {
     "cell_type": "markdown",
     "metadata": {},
     "source": [
      "Not surprisingly, restaurants are the most popular subject for reviews and it greatly dwarfed the others. In terms of star ratings, it seems that, with the exception of the hotels and travel industry, people are mostly generous in reviewing businesses although some categories like financial services received a wide range of ratings."
     ]
    },
    {
     "cell_type": "code",
     "collapsed": false,
     "input": [
      "pd.to_pickle(reviews, 'reviews.pkl')"
     ],
     "language": "python",
     "metadata": {},
     "outputs": [],
     "prompt_number": 29
    },
    {
     "cell_type": "code",
     "collapsed": false,
     "input": [],
     "language": "python",
     "metadata": {},
     "outputs": []
    }
   ],
   "metadata": {}
  }
 ]
}